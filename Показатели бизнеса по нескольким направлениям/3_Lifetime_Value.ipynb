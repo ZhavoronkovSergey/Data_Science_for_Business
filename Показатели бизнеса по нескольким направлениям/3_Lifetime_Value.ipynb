{
  "nbformat": 4,
  "nbformat_minor": 0,
  "metadata": {
    "colab": {
      "name": "Lifetime Value.ipynb",
      "provenance": []
    },
    "kernelspec": {
      "name": "python3",
      "display_name": "Python 3"
    },
    "language_info": {
      "name": "python"
    }
  },
  "cells": [
    {
      "cell_type": "markdown",
      "metadata": {
        "id": "mTMRWT3e2y_V"
      },
      "source": [
        "# Lifetime Value\n",
        "\n",
        "Теперь пришло время измерить один из самых важных показателей, который мы должны внимательно отслеживать: Lifetime Value.\n",
        "\n",
        "Мы инвестируем в клиентов (затраты на приобретение, офлайн-рекламу, рекламные акции, скидки и т. Д.), Чтобы получать прибыль и быть прибыльными. Естественно, эти действия делают некоторых клиентов очень ценными с точки зрения пожизненной ценности, но всегда есть клиенты, которые снижают прибыльность. Нам нужно определить эти модели поведения, сегментировать клиентов и действовать соответственно.\n",
        "\n",
        "Вычисление стоимости жизни - самая простая часть. Сначала нам нужно выбрать временное окно. Это может быть что угодно, например, 3, 6, 12, 24 месяца. По приведенному ниже уравнению мы можем иметь пожизненную ценность для каждого клиента в этом конкретном временном окне:\n",
        "\n",
        "**Lifetime Value**: *Общий Валовой Доход* - *Общая Стоимость*"
      ]
    },
    {
      "cell_type": "markdown",
      "metadata": {
        "id": "hABEHP_a539Y"
      },
      "source": [
        "Выбор временных рамок зависит от вашей отрасли, бизнес-модели, стратегии и многого другого. Для некоторых отраслей промышленности 1 год-это очень длительный период, в то время как для других он очень короткий. В нашем примере мы продолжим с 6 месяцами."
      ]
    },
    {
      "cell_type": "markdown",
      "metadata": {
        "id": "freYpbJl6CeM"
      },
      "source": [
        "Оценки RFM для каждого идентификатора клиента являются идеальными кандидатами для набора функций. Чтобы реализовать это правильно, нам нужно разделить наш набор данных. Мы возьмем данные за 3 месяца, рассчитаем RFM и используем их для прогнозирования следующих 6 месяцев. Поэтому сначала нам нужно создать два фрейма данных и добавить к ним оценки RFM."
      ]
    },
    {
      "cell_type": "code",
      "metadata": {
        "id": "Iuu6QWlEpcKy"
      },
      "source": [
        "from sklearn.metrics import classification_report,confusion_matrix\n",
        "import matplotlib.pyplot as plt\n",
        "import numpy as np\n",
        "import pandas as pd\n",
        "%matplotlib inline\n",
        "import seaborn as sns\n",
        "from __future__ import division\n",
        "from sklearn.cluster import KMeans\n",
        "from datetime import datetime, timedelta, date\n",
        "\n",
        "import xgboost as xgb\n",
        "from sklearn.model_selection import KFold, cross_val_score, train_test_split\n",
        "\n",
        "import xgboost as xgb"
      ],
      "execution_count": 114,
      "outputs": []
    },
    {
      "cell_type": "code",
      "metadata": {
        "id": "kY5OEk3Y5Lpc"
      },
      "source": [
        "df = pd.read_csv('/content/OnlineRetail.csv', encoding= 'unicode_escape')\n",
        "df['InvoiceDate'] = pd.to_datetime(df['InvoiceDate'])\n",
        "df_uk = df.query(\"Country=='United Kingdom'\").reset_index(drop=True)"
      ],
      "execution_count": 115,
      "outputs": []
    },
    {
      "cell_type": "code",
      "metadata": {
        "colab": {
          "base_uri": "https://localhost:8080/",
          "height": 414
        },
        "id": "hXrLu7B-Fw5F",
        "outputId": "236e7d1e-e7e7-499e-a99a-94be92f3f209"
      },
      "source": [
        "df_uk"
      ],
      "execution_count": 116,
      "outputs": [
        {
          "output_type": "execute_result",
          "data": {
            "text/html": [
              "<div>\n",
              "<style scoped>\n",
              "    .dataframe tbody tr th:only-of-type {\n",
              "        vertical-align: middle;\n",
              "    }\n",
              "\n",
              "    .dataframe tbody tr th {\n",
              "        vertical-align: top;\n",
              "    }\n",
              "\n",
              "    .dataframe thead th {\n",
              "        text-align: right;\n",
              "    }\n",
              "</style>\n",
              "<table border=\"1\" class=\"dataframe\">\n",
              "  <thead>\n",
              "    <tr style=\"text-align: right;\">\n",
              "      <th></th>\n",
              "      <th>InvoiceNo</th>\n",
              "      <th>StockCode</th>\n",
              "      <th>Description</th>\n",
              "      <th>Quantity</th>\n",
              "      <th>InvoiceDate</th>\n",
              "      <th>UnitPrice</th>\n",
              "      <th>CustomerID</th>\n",
              "      <th>Country</th>\n",
              "    </tr>\n",
              "  </thead>\n",
              "  <tbody>\n",
              "    <tr>\n",
              "      <th>0</th>\n",
              "      <td>536365</td>\n",
              "      <td>85123A</td>\n",
              "      <td>WHITE HANGING HEART T-LIGHT HOLDER</td>\n",
              "      <td>6</td>\n",
              "      <td>2010-12-01 08:26:00</td>\n",
              "      <td>2.55</td>\n",
              "      <td>17850.0</td>\n",
              "      <td>United Kingdom</td>\n",
              "    </tr>\n",
              "    <tr>\n",
              "      <th>1</th>\n",
              "      <td>536365</td>\n",
              "      <td>71053</td>\n",
              "      <td>WHITE METAL LANTERN</td>\n",
              "      <td>6</td>\n",
              "      <td>2010-12-01 08:26:00</td>\n",
              "      <td>3.39</td>\n",
              "      <td>17850.0</td>\n",
              "      <td>United Kingdom</td>\n",
              "    </tr>\n",
              "    <tr>\n",
              "      <th>2</th>\n",
              "      <td>536365</td>\n",
              "      <td>84406B</td>\n",
              "      <td>CREAM CUPID HEARTS COAT HANGER</td>\n",
              "      <td>8</td>\n",
              "      <td>2010-12-01 08:26:00</td>\n",
              "      <td>2.75</td>\n",
              "      <td>17850.0</td>\n",
              "      <td>United Kingdom</td>\n",
              "    </tr>\n",
              "    <tr>\n",
              "      <th>3</th>\n",
              "      <td>536365</td>\n",
              "      <td>84029G</td>\n",
              "      <td>KNITTED UNION FLAG HOT WATER BOTTLE</td>\n",
              "      <td>6</td>\n",
              "      <td>2010-12-01 08:26:00</td>\n",
              "      <td>3.39</td>\n",
              "      <td>17850.0</td>\n",
              "      <td>United Kingdom</td>\n",
              "    </tr>\n",
              "    <tr>\n",
              "      <th>4</th>\n",
              "      <td>536365</td>\n",
              "      <td>84029E</td>\n",
              "      <td>RED WOOLLY HOTTIE WHITE HEART.</td>\n",
              "      <td>6</td>\n",
              "      <td>2010-12-01 08:26:00</td>\n",
              "      <td>3.39</td>\n",
              "      <td>17850.0</td>\n",
              "      <td>United Kingdom</td>\n",
              "    </tr>\n",
              "    <tr>\n",
              "      <th>...</th>\n",
              "      <td>...</td>\n",
              "      <td>...</td>\n",
              "      <td>...</td>\n",
              "      <td>...</td>\n",
              "      <td>...</td>\n",
              "      <td>...</td>\n",
              "      <td>...</td>\n",
              "      <td>...</td>\n",
              "    </tr>\n",
              "    <tr>\n",
              "      <th>495473</th>\n",
              "      <td>581585</td>\n",
              "      <td>22466</td>\n",
              "      <td>FAIRY TALE COTTAGE NIGHT LIGHT</td>\n",
              "      <td>12</td>\n",
              "      <td>2011-12-09 12:31:00</td>\n",
              "      <td>1.95</td>\n",
              "      <td>15804.0</td>\n",
              "      <td>United Kingdom</td>\n",
              "    </tr>\n",
              "    <tr>\n",
              "      <th>495474</th>\n",
              "      <td>581586</td>\n",
              "      <td>22061</td>\n",
              "      <td>LARGE CAKE STAND  HANGING STRAWBERY</td>\n",
              "      <td>8</td>\n",
              "      <td>2011-12-09 12:49:00</td>\n",
              "      <td>2.95</td>\n",
              "      <td>13113.0</td>\n",
              "      <td>United Kingdom</td>\n",
              "    </tr>\n",
              "    <tr>\n",
              "      <th>495475</th>\n",
              "      <td>581586</td>\n",
              "      <td>23275</td>\n",
              "      <td>SET OF 3 HANGING OWLS OLLIE BEAK</td>\n",
              "      <td>24</td>\n",
              "      <td>2011-12-09 12:49:00</td>\n",
              "      <td>1.25</td>\n",
              "      <td>13113.0</td>\n",
              "      <td>United Kingdom</td>\n",
              "    </tr>\n",
              "    <tr>\n",
              "      <th>495476</th>\n",
              "      <td>581586</td>\n",
              "      <td>21217</td>\n",
              "      <td>RED RETROSPOT ROUND CAKE TINS</td>\n",
              "      <td>24</td>\n",
              "      <td>2011-12-09 12:49:00</td>\n",
              "      <td>8.95</td>\n",
              "      <td>13113.0</td>\n",
              "      <td>United Kingdom</td>\n",
              "    </tr>\n",
              "    <tr>\n",
              "      <th>495477</th>\n",
              "      <td>581586</td>\n",
              "      <td>20685</td>\n",
              "      <td>DOORMAT RED RETROSPOT</td>\n",
              "      <td>10</td>\n",
              "      <td>2011-12-09 12:49:00</td>\n",
              "      <td>7.08</td>\n",
              "      <td>13113.0</td>\n",
              "      <td>United Kingdom</td>\n",
              "    </tr>\n",
              "  </tbody>\n",
              "</table>\n",
              "<p>495478 rows × 8 columns</p>\n",
              "</div>"
            ],
            "text/plain": [
              "       InvoiceNo StockCode  ... CustomerID         Country\n",
              "0         536365    85123A  ...    17850.0  United Kingdom\n",
              "1         536365     71053  ...    17850.0  United Kingdom\n",
              "2         536365    84406B  ...    17850.0  United Kingdom\n",
              "3         536365    84029G  ...    17850.0  United Kingdom\n",
              "4         536365    84029E  ...    17850.0  United Kingdom\n",
              "...          ...       ...  ...        ...             ...\n",
              "495473    581585     22466  ...    15804.0  United Kingdom\n",
              "495474    581586     22061  ...    13113.0  United Kingdom\n",
              "495475    581586     23275  ...    13113.0  United Kingdom\n",
              "495476    581586     21217  ...    13113.0  United Kingdom\n",
              "495477    581586     20685  ...    13113.0  United Kingdom\n",
              "\n",
              "[495478 rows x 8 columns]"
            ]
          },
          "metadata": {},
          "execution_count": 116
        }
      ]
    },
    {
      "cell_type": "code",
      "metadata": {
        "id": "nOBI1GMcI3zq"
      },
      "source": [
        "df_3m = df_uk.query('InvoiceDate < datetime(2011,6,1) & InvoiceDate >= datetime(2011,3,1)').reset_index(drop=True)\n",
        "df_6m = df_uk.query('InvoiceDate >= datetime(2011,6,1) & InvoiceDate < datetime(2011,12,1)').reset_index(drop=True)\n"
      ],
      "execution_count": 117,
      "outputs": []
    },
    {
      "cell_type": "code",
      "metadata": {
        "id": "aThQrJFf5Lj2"
      },
      "source": [
        "df_user = pd.DataFrame(df_3m['CustomerID'].unique())\n",
        "df_user.columns = ['CustomerID']"
      ],
      "execution_count": 118,
      "outputs": []
    },
    {
      "cell_type": "code",
      "metadata": {
        "id": "uVXxFjjK5LhF"
      },
      "source": [
        "def order_cluster(cluster_field_name, target_field_name, df, ascending):\n",
        "    new_cluster_field_name = 'new_' + cluster_field_name\n",
        "    df_new = df.groupby(cluster_field_name)[target_field_name].mean().reset_index()\n",
        "    df_new = df_new.sort_values(by=target_field_name,ascending=ascending).reset_index(drop=True)\n",
        "    df_new['index'] = df_new.index\n",
        "    df_final = pd.merge(df, df_new[[cluster_field_name,'index']], on=cluster_field_name)\n",
        "    df_final = df_final.drop([cluster_field_name],axis=1)\n",
        "    df_final = df_final.rename(columns={\"index\":cluster_field_name})\n",
        "    return df_final"
      ],
      "execution_count": 119,
      "outputs": []
    },
    {
      "cell_type": "code",
      "metadata": {
        "id": "V3qKQZUW5LeM"
      },
      "source": [
        "df_max_purchase = df_3m.groupby('CustomerID').InvoiceDate.max().reset_index()\n",
        "df_max_purchase.columns = ['CustomerID','MaxPurchaseDate']\n",
        "df_max_purchase['Recency'] = (df_max_purchase['MaxPurchaseDate'].max() - df_max_purchase['MaxPurchaseDate']).dt.days\n",
        "df_user = pd.merge(df_user, df_max_purchase[['CustomerID','Recency']], on='CustomerID')"
      ],
      "execution_count": 120,
      "outputs": []
    },
    {
      "cell_type": "code",
      "metadata": {
        "id": "GoAmI5ZS5Lbd"
      },
      "source": [
        "kmeans = KMeans(n_clusters=4)\n",
        "kmeans.fit(df_user[['Recency']])\n",
        "df_user['RecencyCluster'] = kmeans.predict(df_user[['Recency']])"
      ],
      "execution_count": 121,
      "outputs": []
    },
    {
      "cell_type": "code",
      "metadata": {
        "id": "H0kA5G4i7Inv",
        "colab": {
          "base_uri": "https://localhost:8080/",
          "height": 414
        },
        "outputId": "7475fd0b-17e4-4d56-cbf6-7837119d0078"
      },
      "source": [
        "df_user = order_cluster('RecencyCluster', 'Recency', df_user, False)\n",
        "\n",
        "df_frequency = df_3m.groupby('CustomerID').InvoiceDate.count().reset_index()\n",
        "df_frequency.columns = ['CustomerID','Frequency']\n",
        "df_user = pd.merge(df_user, df_frequency, on='CustomerID')\n",
        "df_user"
      ],
      "execution_count": 122,
      "outputs": [
        {
          "output_type": "execute_result",
          "data": {
            "text/html": [
              "<div>\n",
              "<style scoped>\n",
              "    .dataframe tbody tr th:only-of-type {\n",
              "        vertical-align: middle;\n",
              "    }\n",
              "\n",
              "    .dataframe tbody tr th {\n",
              "        vertical-align: top;\n",
              "    }\n",
              "\n",
              "    .dataframe thead th {\n",
              "        text-align: right;\n",
              "    }\n",
              "</style>\n",
              "<table border=\"1\" class=\"dataframe\">\n",
              "  <thead>\n",
              "    <tr style=\"text-align: right;\">\n",
              "      <th></th>\n",
              "      <th>CustomerID</th>\n",
              "      <th>Recency</th>\n",
              "      <th>RecencyCluster</th>\n",
              "      <th>Frequency</th>\n",
              "    </tr>\n",
              "  </thead>\n",
              "  <tbody>\n",
              "    <tr>\n",
              "      <th>0</th>\n",
              "      <td>14620.0</td>\n",
              "      <td>12</td>\n",
              "      <td>3</td>\n",
              "      <td>30</td>\n",
              "    </tr>\n",
              "    <tr>\n",
              "      <th>1</th>\n",
              "      <td>14740.0</td>\n",
              "      <td>4</td>\n",
              "      <td>3</td>\n",
              "      <td>89</td>\n",
              "    </tr>\n",
              "    <tr>\n",
              "      <th>2</th>\n",
              "      <td>17068.0</td>\n",
              "      <td>11</td>\n",
              "      <td>3</td>\n",
              "      <td>76</td>\n",
              "    </tr>\n",
              "    <tr>\n",
              "      <th>3</th>\n",
              "      <td>12971.0</td>\n",
              "      <td>4</td>\n",
              "      <td>3</td>\n",
              "      <td>73</td>\n",
              "    </tr>\n",
              "    <tr>\n",
              "      <th>4</th>\n",
              "      <td>15194.0</td>\n",
              "      <td>6</td>\n",
              "      <td>3</td>\n",
              "      <td>64</td>\n",
              "    </tr>\n",
              "    <tr>\n",
              "      <th>...</th>\n",
              "      <td>...</td>\n",
              "      <td>...</td>\n",
              "      <td>...</td>\n",
              "      <td>...</td>\n",
              "    </tr>\n",
              "    <tr>\n",
              "      <th>1835</th>\n",
              "      <td>13482.0</td>\n",
              "      <td>39</td>\n",
              "      <td>1</td>\n",
              "      <td>11</td>\n",
              "    </tr>\n",
              "    <tr>\n",
              "      <th>1836</th>\n",
              "      <td>13862.0</td>\n",
              "      <td>39</td>\n",
              "      <td>1</td>\n",
              "      <td>11</td>\n",
              "    </tr>\n",
              "    <tr>\n",
              "      <th>1837</th>\n",
              "      <td>14512.0</td>\n",
              "      <td>39</td>\n",
              "      <td>1</td>\n",
              "      <td>14</td>\n",
              "    </tr>\n",
              "    <tr>\n",
              "      <th>1838</th>\n",
              "      <td>15810.0</td>\n",
              "      <td>39</td>\n",
              "      <td>1</td>\n",
              "      <td>32</td>\n",
              "    </tr>\n",
              "    <tr>\n",
              "      <th>1839</th>\n",
              "      <td>14562.0</td>\n",
              "      <td>39</td>\n",
              "      <td>1</td>\n",
              "      <td>37</td>\n",
              "    </tr>\n",
              "  </tbody>\n",
              "</table>\n",
              "<p>1840 rows × 4 columns</p>\n",
              "</div>"
            ],
            "text/plain": [
              "      CustomerID  Recency  RecencyCluster  Frequency\n",
              "0        14620.0       12               3         30\n",
              "1        14740.0        4               3         89\n",
              "2        17068.0       11               3         76\n",
              "3        12971.0        4               3         73\n",
              "4        15194.0        6               3         64\n",
              "...          ...      ...             ...        ...\n",
              "1835     13482.0       39               1         11\n",
              "1836     13862.0       39               1         11\n",
              "1837     14512.0       39               1         14\n",
              "1838     15810.0       39               1         32\n",
              "1839     14562.0       39               1         37\n",
              "\n",
              "[1840 rows x 4 columns]"
            ]
          },
          "metadata": {},
          "execution_count": 122
        }
      ]
    },
    {
      "cell_type": "code",
      "metadata": {
        "id": "IGEGVRqv7IkA"
      },
      "source": [
        "kmeans = KMeans(n_clusters=4)\n",
        "kmeans.fit(df_user[['Frequency']])\n",
        "df_user['FrequencyCluster'] = kmeans.predict(df_user[['Frequency']])"
      ],
      "execution_count": 123,
      "outputs": []
    },
    {
      "cell_type": "code",
      "metadata": {
        "id": "9yvFLm9yDV1o"
      },
      "source": [
        "df_user = order_cluster('FrequencyCluster', 'Frequency',df_user,True)\n",
        "\n",
        "df_3m['Revenue'] = df_3m['UnitPrice'] * df_3m['Quantity']\n",
        "df_revenue = df_3m.groupby('CustomerID').Revenue.sum().reset_index()\n",
        "df_user = pd.merge(df_user, df_revenue, on='CustomerID')"
      ],
      "execution_count": 124,
      "outputs": []
    },
    {
      "cell_type": "code",
      "metadata": {
        "id": "xKb7hepnDZwc"
      },
      "source": [
        "kmeans = KMeans(n_clusters=4)\n",
        "kmeans.fit(df_user[['Revenue']])\n",
        "df_user['RevenueCluster'] = kmeans.predict(df_user[['Revenue']])"
      ],
      "execution_count": 125,
      "outputs": []
    },
    {
      "cell_type": "code",
      "metadata": {
        "id": "vhZJPrF97IhW",
        "colab": {
          "base_uri": "https://localhost:8080/",
          "height": 414
        },
        "outputId": "a84204ab-d341-4270-993d-f412cc1adbca"
      },
      "source": [
        "df_user = order_cluster('RevenueCluster', 'Revenue',df_user,True)\n",
        "\n",
        "df_user['OverallScore'] = df_user['RecencyCluster'] + df_user['FrequencyCluster'] + df_user['RevenueCluster']\n",
        "df_user['Segment'] = 'Low-Value'\n",
        "df_user.loc[df_user['OverallScore']>3,'Segment'] = 'Mid-Value' \n",
        "df_user.loc[df_user['OverallScore']>5,'Segment'] = 'High-Value' \n",
        "df_user"
      ],
      "execution_count": 126,
      "outputs": [
        {
          "output_type": "execute_result",
          "data": {
            "text/html": [
              "<div>\n",
              "<style scoped>\n",
              "    .dataframe tbody tr th:only-of-type {\n",
              "        vertical-align: middle;\n",
              "    }\n",
              "\n",
              "    .dataframe tbody tr th {\n",
              "        vertical-align: top;\n",
              "    }\n",
              "\n",
              "    .dataframe thead th {\n",
              "        text-align: right;\n",
              "    }\n",
              "</style>\n",
              "<table border=\"1\" class=\"dataframe\">\n",
              "  <thead>\n",
              "    <tr style=\"text-align: right;\">\n",
              "      <th></th>\n",
              "      <th>CustomerID</th>\n",
              "      <th>Recency</th>\n",
              "      <th>RecencyCluster</th>\n",
              "      <th>Frequency</th>\n",
              "      <th>FrequencyCluster</th>\n",
              "      <th>Revenue</th>\n",
              "      <th>RevenueCluster</th>\n",
              "      <th>OverallScore</th>\n",
              "      <th>Segment</th>\n",
              "    </tr>\n",
              "  </thead>\n",
              "  <tbody>\n",
              "    <tr>\n",
              "      <th>0</th>\n",
              "      <td>14620.0</td>\n",
              "      <td>12</td>\n",
              "      <td>3</td>\n",
              "      <td>30</td>\n",
              "      <td>0</td>\n",
              "      <td>393.28</td>\n",
              "      <td>0</td>\n",
              "      <td>3</td>\n",
              "      <td>Low-Value</td>\n",
              "    </tr>\n",
              "    <tr>\n",
              "      <th>1</th>\n",
              "      <td>15194.0</td>\n",
              "      <td>6</td>\n",
              "      <td>3</td>\n",
              "      <td>64</td>\n",
              "      <td>0</td>\n",
              "      <td>1439.02</td>\n",
              "      <td>0</td>\n",
              "      <td>3</td>\n",
              "      <td>Low-Value</td>\n",
              "    </tr>\n",
              "    <tr>\n",
              "      <th>2</th>\n",
              "      <td>18044.0</td>\n",
              "      <td>5</td>\n",
              "      <td>3</td>\n",
              "      <td>57</td>\n",
              "      <td>0</td>\n",
              "      <td>808.96</td>\n",
              "      <td>0</td>\n",
              "      <td>3</td>\n",
              "      <td>Low-Value</td>\n",
              "    </tr>\n",
              "    <tr>\n",
              "      <th>3</th>\n",
              "      <td>18075.0</td>\n",
              "      <td>12</td>\n",
              "      <td>3</td>\n",
              "      <td>35</td>\n",
              "      <td>0</td>\n",
              "      <td>638.12</td>\n",
              "      <td>0</td>\n",
              "      <td>3</td>\n",
              "      <td>Low-Value</td>\n",
              "    </tr>\n",
              "    <tr>\n",
              "      <th>4</th>\n",
              "      <td>15241.0</td>\n",
              "      <td>0</td>\n",
              "      <td>3</td>\n",
              "      <td>64</td>\n",
              "      <td>0</td>\n",
              "      <td>947.55</td>\n",
              "      <td>0</td>\n",
              "      <td>3</td>\n",
              "      <td>Low-Value</td>\n",
              "    </tr>\n",
              "    <tr>\n",
              "      <th>...</th>\n",
              "      <td>...</td>\n",
              "      <td>...</td>\n",
              "      <td>...</td>\n",
              "      <td>...</td>\n",
              "      <td>...</td>\n",
              "      <td>...</td>\n",
              "      <td>...</td>\n",
              "      <td>...</td>\n",
              "      <td>...</td>\n",
              "    </tr>\n",
              "    <tr>\n",
              "      <th>1835</th>\n",
              "      <td>17511.0</td>\n",
              "      <td>14</td>\n",
              "      <td>3</td>\n",
              "      <td>199</td>\n",
              "      <td>1</td>\n",
              "      <td>17307.53</td>\n",
              "      <td>2</td>\n",
              "      <td>6</td>\n",
              "      <td>High-Value</td>\n",
              "    </tr>\n",
              "    <tr>\n",
              "      <th>1836</th>\n",
              "      <td>16684.0</td>\n",
              "      <td>13</td>\n",
              "      <td>3</td>\n",
              "      <td>73</td>\n",
              "      <td>1</td>\n",
              "      <td>15263.96</td>\n",
              "      <td>2</td>\n",
              "      <td>6</td>\n",
              "      <td>High-Value</td>\n",
              "    </tr>\n",
              "    <tr>\n",
              "      <th>1837</th>\n",
              "      <td>15311.0</td>\n",
              "      <td>4</td>\n",
              "      <td>3</td>\n",
              "      <td>522</td>\n",
              "      <td>2</td>\n",
              "      <td>16309.61</td>\n",
              "      <td>2</td>\n",
              "      <td>7</td>\n",
              "      <td>High-Value</td>\n",
              "    </tr>\n",
              "    <tr>\n",
              "      <th>1838</th>\n",
              "      <td>13089.0</td>\n",
              "      <td>5</td>\n",
              "      <td>3</td>\n",
              "      <td>452</td>\n",
              "      <td>2</td>\n",
              "      <td>11757.87</td>\n",
              "      <td>2</td>\n",
              "      <td>7</td>\n",
              "      <td>High-Value</td>\n",
              "    </tr>\n",
              "    <tr>\n",
              "      <th>1839</th>\n",
              "      <td>14298.0</td>\n",
              "      <td>27</td>\n",
              "      <td>2</td>\n",
              "      <td>433</td>\n",
              "      <td>2</td>\n",
              "      <td>14984.73</td>\n",
              "      <td>2</td>\n",
              "      <td>6</td>\n",
              "      <td>High-Value</td>\n",
              "    </tr>\n",
              "  </tbody>\n",
              "</table>\n",
              "<p>1840 rows × 9 columns</p>\n",
              "</div>"
            ],
            "text/plain": [
              "      CustomerID  Recency  ...  OverallScore     Segment\n",
              "0        14620.0       12  ...             3   Low-Value\n",
              "1        15194.0        6  ...             3   Low-Value\n",
              "2        18044.0        5  ...             3   Low-Value\n",
              "3        18075.0       12  ...             3   Low-Value\n",
              "4        15241.0        0  ...             3   Low-Value\n",
              "...          ...      ...  ...           ...         ...\n",
              "1835     17511.0       14  ...             6  High-Value\n",
              "1836     16684.0       13  ...             6  High-Value\n",
              "1837     15311.0        4  ...             7  High-Value\n",
              "1838     13089.0        5  ...             7  High-Value\n",
              "1839     14298.0       27  ...             6  High-Value\n",
              "\n",
              "[1840 rows x 9 columns]"
            ]
          },
          "metadata": {},
          "execution_count": 126
        }
      ]
    },
    {
      "cell_type": "code",
      "metadata": {
        "id": "Tvw7LmLQ7Iej"
      },
      "source": [
        "df_6m['Revenue'] = df_6m['UnitPrice'] * df_6m['Quantity']\n",
        "df_user_6m = df_6m.groupby('CustomerID')['Revenue'].sum().reset_index()\n",
        "df_user_6m.columns = ['CustomerID','m6_Revenue']"
      ],
      "execution_count": 127,
      "outputs": []
    },
    {
      "cell_type": "code",
      "metadata": {
        "id": "Rklfp3kU84Y9"
      },
      "source": [
        "df_user_6 = df_user_6m.query('m6_Revenue < 10000')"
      ],
      "execution_count": 128,
      "outputs": []
    },
    {
      "cell_type": "code",
      "metadata": {
        "colab": {
          "base_uri": "https://localhost:8080/",
          "height": 406
        },
        "id": "Q0OZqlp57IcU",
        "outputId": "d759fc06-d62a-459f-8f8c-a2403ed277ad"
      },
      "source": [
        "plt.subplots(figsize=(15, 6))\n",
        "sns.histplot(df_user_6['m6_Revenue'])"
      ],
      "execution_count": 129,
      "outputs": [
        {
          "output_type": "execute_result",
          "data": {
            "text/plain": [
              "<matplotlib.axes._subplots.AxesSubplot at 0x7fa5f4b20c90>"
            ]
          },
          "metadata": {},
          "execution_count": 129
        },
        {
          "output_type": "display_data",
          "data": {
            "image/png": "[encoded data removed]",
            "text/plain": [
              "<Figure size 1080x432 with 1 Axes>"
            ]
          },
          "metadata": {
            "needs_background": "light"
          }
        }
      ]
    },
    {
      "cell_type": "code",
      "metadata": {
        "id": "CG3nFAdf7IZD"
      },
      "source": [
        "df_merge = pd.merge(df_user, df_user_6m, on='CustomerID', how='left')\n",
        "df_merge = df_merge.fillna(0)\n",
        "\n",
        "df_graph = df_merge.query(\"m6_Revenue < 30000\")"
      ],
      "execution_count": 130,
      "outputs": []
    },
    {
      "cell_type": "code",
      "metadata": {
        "colab": {
          "base_uri": "https://localhost:8080/",
          "height": 414
        },
        "id": "pJjeCu6jLe1h",
        "outputId": "e0885293-8e2b-49ab-a182-81f131e72902"
      },
      "source": [
        "df_graph"
      ],
      "execution_count": 131,
      "outputs": [
        {
          "output_type": "execute_result",
          "data": {
            "text/html": [
              "<div>\n",
              "<style scoped>\n",
              "    .dataframe tbody tr th:only-of-type {\n",
              "        vertical-align: middle;\n",
              "    }\n",
              "\n",
              "    .dataframe tbody tr th {\n",
              "        vertical-align: top;\n",
              "    }\n",
              "\n",
              "    .dataframe thead th {\n",
              "        text-align: right;\n",
              "    }\n",
              "</style>\n",
              "<table border=\"1\" class=\"dataframe\">\n",
              "  <thead>\n",
              "    <tr style=\"text-align: right;\">\n",
              "      <th></th>\n",
              "      <th>CustomerID</th>\n",
              "      <th>Recency</th>\n",
              "      <th>RecencyCluster</th>\n",
              "      <th>Frequency</th>\n",
              "      <th>FrequencyCluster</th>\n",
              "      <th>Revenue</th>\n",
              "      <th>RevenueCluster</th>\n",
              "      <th>OverallScore</th>\n",
              "      <th>Segment</th>\n",
              "      <th>m6_Revenue</th>\n",
              "    </tr>\n",
              "  </thead>\n",
              "  <tbody>\n",
              "    <tr>\n",
              "      <th>0</th>\n",
              "      <td>14620.0</td>\n",
              "      <td>12</td>\n",
              "      <td>3</td>\n",
              "      <td>30</td>\n",
              "      <td>0</td>\n",
              "      <td>393.28</td>\n",
              "      <td>0</td>\n",
              "      <td>3</td>\n",
              "      <td>Low-Value</td>\n",
              "      <td>0.00</td>\n",
              "    </tr>\n",
              "    <tr>\n",
              "      <th>1</th>\n",
              "      <td>15194.0</td>\n",
              "      <td>6</td>\n",
              "      <td>3</td>\n",
              "      <td>64</td>\n",
              "      <td>0</td>\n",
              "      <td>1439.02</td>\n",
              "      <td>0</td>\n",
              "      <td>3</td>\n",
              "      <td>Low-Value</td>\n",
              "      <td>3232.20</td>\n",
              "    </tr>\n",
              "    <tr>\n",
              "      <th>2</th>\n",
              "      <td>18044.0</td>\n",
              "      <td>5</td>\n",
              "      <td>3</td>\n",
              "      <td>57</td>\n",
              "      <td>0</td>\n",
              "      <td>808.96</td>\n",
              "      <td>0</td>\n",
              "      <td>3</td>\n",
              "      <td>Low-Value</td>\n",
              "      <td>991.54</td>\n",
              "    </tr>\n",
              "    <tr>\n",
              "      <th>3</th>\n",
              "      <td>18075.0</td>\n",
              "      <td>12</td>\n",
              "      <td>3</td>\n",
              "      <td>35</td>\n",
              "      <td>0</td>\n",
              "      <td>638.12</td>\n",
              "      <td>0</td>\n",
              "      <td>3</td>\n",
              "      <td>Low-Value</td>\n",
              "      <td>1322.75</td>\n",
              "    </tr>\n",
              "    <tr>\n",
              "      <th>4</th>\n",
              "      <td>15241.0</td>\n",
              "      <td>0</td>\n",
              "      <td>3</td>\n",
              "      <td>64</td>\n",
              "      <td>0</td>\n",
              "      <td>947.55</td>\n",
              "      <td>0</td>\n",
              "      <td>3</td>\n",
              "      <td>Low-Value</td>\n",
              "      <td>791.04</td>\n",
              "    </tr>\n",
              "    <tr>\n",
              "      <th>...</th>\n",
              "      <td>...</td>\n",
              "      <td>...</td>\n",
              "      <td>...</td>\n",
              "      <td>...</td>\n",
              "      <td>...</td>\n",
              "      <td>...</td>\n",
              "      <td>...</td>\n",
              "      <td>...</td>\n",
              "      <td>...</td>\n",
              "      <td>...</td>\n",
              "    </tr>\n",
              "    <tr>\n",
              "      <th>1832</th>\n",
              "      <td>16422.0</td>\n",
              "      <td>4</td>\n",
              "      <td>3</td>\n",
              "      <td>129</td>\n",
              "      <td>1</td>\n",
              "      <td>10348.13</td>\n",
              "      <td>2</td>\n",
              "      <td>6</td>\n",
              "      <td>High-Value</td>\n",
              "      <td>16756.31</td>\n",
              "    </tr>\n",
              "    <tr>\n",
              "      <th>1834</th>\n",
              "      <td>13798.0</td>\n",
              "      <td>4</td>\n",
              "      <td>3</td>\n",
              "      <td>122</td>\n",
              "      <td>1</td>\n",
              "      <td>11105.20</td>\n",
              "      <td>2</td>\n",
              "      <td>6</td>\n",
              "      <td>High-Value</td>\n",
              "      <td>12913.99</td>\n",
              "    </tr>\n",
              "    <tr>\n",
              "      <th>1837</th>\n",
              "      <td>15311.0</td>\n",
              "      <td>4</td>\n",
              "      <td>3</td>\n",
              "      <td>522</td>\n",
              "      <td>2</td>\n",
              "      <td>16309.61</td>\n",
              "      <td>2</td>\n",
              "      <td>7</td>\n",
              "      <td>High-Value</td>\n",
              "      <td>29313.15</td>\n",
              "    </tr>\n",
              "    <tr>\n",
              "      <th>1838</th>\n",
              "      <td>13089.0</td>\n",
              "      <td>5</td>\n",
              "      <td>3</td>\n",
              "      <td>452</td>\n",
              "      <td>2</td>\n",
              "      <td>11757.87</td>\n",
              "      <td>2</td>\n",
              "      <td>7</td>\n",
              "      <td>High-Value</td>\n",
              "      <td>26013.37</td>\n",
              "    </tr>\n",
              "    <tr>\n",
              "      <th>1839</th>\n",
              "      <td>14298.0</td>\n",
              "      <td>27</td>\n",
              "      <td>2</td>\n",
              "      <td>433</td>\n",
              "      <td>2</td>\n",
              "      <td>14984.73</td>\n",
              "      <td>2</td>\n",
              "      <td>6</td>\n",
              "      <td>High-Value</td>\n",
              "      <td>24081.07</td>\n",
              "    </tr>\n",
              "  </tbody>\n",
              "</table>\n",
              "<p>1833 rows × 10 columns</p>\n",
              "</div>"
            ],
            "text/plain": [
              "      CustomerID  Recency  RecencyCluster  ...  OverallScore     Segment  m6_Revenue\n",
              "0        14620.0       12               3  ...             3   Low-Value        0.00\n",
              "1        15194.0        6               3  ...             3   Low-Value     3232.20\n",
              "2        18044.0        5               3  ...             3   Low-Value      991.54\n",
              "3        18075.0       12               3  ...             3   Low-Value     1322.75\n",
              "4        15241.0        0               3  ...             3   Low-Value      791.04\n",
              "...          ...      ...             ...  ...           ...         ...         ...\n",
              "1832     16422.0        4               3  ...             6  High-Value    16756.31\n",
              "1834     13798.0        4               3  ...             6  High-Value    12913.99\n",
              "1837     15311.0        4               3  ...             7  High-Value    29313.15\n",
              "1838     13089.0        5               3  ...             7  High-Value    26013.37\n",
              "1839     14298.0       27               2  ...             6  High-Value    24081.07\n",
              "\n",
              "[1833 rows x 10 columns]"
            ]
          },
          "metadata": {},
          "execution_count": 131
        }
      ]
    },
    {
      "cell_type": "code",
      "metadata": {
        "colab": {
          "base_uri": "https://localhost:8080/",
          "height": 405
        },
        "id": "6S5yNSEtEYF-",
        "outputId": "fe70bdf8-23c7-4227-8fbb-c61f1f5252f0"
      },
      "source": [
        "plt.subplots(figsize=(15, 6))\n",
        "sns.scatterplot(data=df_graph, x='OverallScore', y='m6_Revenue', hue=\"Segment\")"
      ],
      "execution_count": 132,
      "outputs": [
        {
          "output_type": "execute_result",
          "data": {
            "text/plain": [
              "<matplotlib.axes._subplots.AxesSubplot at 0x7fa5f46f5190>"
            ]
          },
          "metadata": {},
          "execution_count": 132
        },
        {
          "output_type": "display_data",
          "data": {
            "image/png": "[encoded data removed]",
            "text/plain": [
              "<Figure size 1080x432 with 1 Axes>"
            ]
          },
          "metadata": {
            "needs_background": "light"
          }
        }
      ]
    },
    {
      "cell_type": "markdown",
      "metadata": {
        "id": "ZIDlsS6ErF06"
      },
      "source": [
        "Положительная корреляция здесь заметна. Высокий балл RFM означает высокий LTV.\n",
        "Прежде чем строить модель машинного обучения, нам нужно определить, в чем заключается тип этой проблемы машинного обучения. \n",
        "\n",
        "LTV сам по себе является проблемой регрессии. Модель машинного обучения может предсказать значение LTV в $. Но здесь нам нужны сегменты LTV, потому что это делает его более действенным и легким в понимании. Применяя кластеризацию K-средних, мы можем идентифицировать наши существующие группы LTV и строить сегменты поверх них.\n",
        "\n",
        "Нам необходимо по-разному относиться к клиентам, основываясь на их прогнозируемом LTV. Для этого примера мы применим кластеризацию и будем делить на 3 сегмента (количество сегментов зависит от динамики и целей вашего бизнеса).:\n",
        "\n",
        "* Низкий LTV\n",
        "* Средний LTV\n",
        "* Высокий LTV"
      ]
    },
    {
      "cell_type": "code",
      "metadata": {
        "id": "gvkqooXw7IV8",
        "colab": {
          "base_uri": "https://localhost:8080/",
          "height": 171
        },
        "outputId": "408c8294-e5a9-42df-e6c9-52d733f43a2c"
      },
      "source": [
        "df_merge = df_merge[df_merge['m6_Revenue']<df_merge['m6_Revenue'].quantile(0.99)]\n",
        "\n",
        "kmeans = KMeans(n_clusters=3)\n",
        "kmeans.fit(df_merge[['m6_Revenue']])\n",
        "df_merge['LTVCluster'] = kmeans.predict(df_merge[['m6_Revenue']])\n",
        "\n",
        "df_merge = order_cluster('LTVCluster', 'm6_Revenue', df_merge, True)\n",
        "\n",
        "df_cluster = df_merge.copy()\n",
        "\n",
        "df_cluster.groupby('LTVCluster')['m6_Revenue'].describe()\n"
      ],
      "execution_count": 133,
      "outputs": [
        {
          "output_type": "execute_result",
          "data": {
            "text/html": [
              "<div>\n",
              "<style scoped>\n",
              "    .dataframe tbody tr th:only-of-type {\n",
              "        vertical-align: middle;\n",
              "    }\n",
              "\n",
              "    .dataframe tbody tr th {\n",
              "        vertical-align: top;\n",
              "    }\n",
              "\n",
              "    .dataframe thead th {\n",
              "        text-align: right;\n",
              "    }\n",
              "</style>\n",
              "<table border=\"1\" class=\"dataframe\">\n",
              "  <thead>\n",
              "    <tr style=\"text-align: right;\">\n",
              "      <th></th>\n",
              "      <th>count</th>\n",
              "      <th>mean</th>\n",
              "      <th>std</th>\n",
              "      <th>min</th>\n",
              "      <th>25%</th>\n",
              "      <th>50%</th>\n",
              "      <th>75%</th>\n",
              "      <th>max</th>\n",
              "    </tr>\n",
              "    <tr>\n",
              "      <th>LTVCluster</th>\n",
              "      <th></th>\n",
              "      <th></th>\n",
              "      <th></th>\n",
              "      <th></th>\n",
              "      <th></th>\n",
              "      <th></th>\n",
              "      <th></th>\n",
              "      <th></th>\n",
              "    </tr>\n",
              "  </thead>\n",
              "  <tbody>\n",
              "    <tr>\n",
              "      <th>0</th>\n",
              "      <td>1394.0</td>\n",
              "      <td>396.137189</td>\n",
              "      <td>419.891843</td>\n",
              "      <td>-609.40</td>\n",
              "      <td>0.000</td>\n",
              "      <td>294.220</td>\n",
              "      <td>682.4300</td>\n",
              "      <td>1429.87</td>\n",
              "    </tr>\n",
              "    <tr>\n",
              "      <th>1</th>\n",
              "      <td>371.0</td>\n",
              "      <td>2492.794933</td>\n",
              "      <td>937.341566</td>\n",
              "      <td>1445.31</td>\n",
              "      <td>1731.980</td>\n",
              "      <td>2162.930</td>\n",
              "      <td>3041.9550</td>\n",
              "      <td>5287.39</td>\n",
              "    </tr>\n",
              "    <tr>\n",
              "      <th>2</th>\n",
              "      <td>56.0</td>\n",
              "      <td>8222.565893</td>\n",
              "      <td>2983.572030</td>\n",
              "      <td>5396.44</td>\n",
              "      <td>6151.435</td>\n",
              "      <td>6986.545</td>\n",
              "      <td>9607.3225</td>\n",
              "      <td>16756.31</td>\n",
              "    </tr>\n",
              "  </tbody>\n",
              "</table>\n",
              "</div>"
            ],
            "text/plain": [
              "             count         mean          std  ...       50%        75%       max\n",
              "LTVCluster                                    ...                               \n",
              "0           1394.0   396.137189   419.891843  ...   294.220   682.4300   1429.87\n",
              "1            371.0  2492.794933   937.341566  ...  2162.930  3041.9550   5287.39\n",
              "2             56.0  8222.565893  2983.572030  ...  6986.545  9607.3225  16756.31\n",
              "\n",
              "[3 rows x 8 columns]"
            ]
          },
          "metadata": {},
          "execution_count": 133
        }
      ]
    },
    {
      "cell_type": "markdown",
      "metadata": {
        "id": "ZoG49aB-HbO5"
      },
      "source": [
        "2-лучший показатель со средним 8,2 тыс. LTV, в то время как 0 - худший показатель с 396."
      ]
    },
    {
      "cell_type": "markdown",
      "metadata": {
        "id": "AsbPrjbBHi6v"
      },
      "source": [
        "* Нужно заняться разработкой некоторых функций. Мы должны преобразовать категориальные столбцы в числовые столбцы.\n",
        "* Мпроверим корреляцию функций с нашей меткой, кластерами LTV.\n",
        "* разделим наш набор данных и обозначим y как LTVCluster. Мы используем X для прогнозирования y.\n",
        "* Создадим обучающий и тестовый набор данных. Обучающий набор будет использоваться для построения модели машинного обучения. Мы применим нашу модель к тестовому набору, чтобы увидеть его реальную производительность."
      ]
    },
    {
      "cell_type": "code",
      "metadata": {
        "id": "qqDIhiUJIgSe"
      },
      "source": [
        "df_class = pd.get_dummies(df_cluster)"
      ],
      "execution_count": 134,
      "outputs": []
    },
    {
      "cell_type": "code",
      "metadata": {
        "colab": {
          "base_uri": "https://localhost:8080/"
        },
        "id": "sQuEKDAtIsJG",
        "outputId": "e4960810-8893-47bc-e3df-c3c18c46b621"
      },
      "source": [
        "corr_matrix = df_class.corr()\n",
        "corr_matrix['LTVCluster'].sort_values(ascending=False)"
      ],
      "execution_count": 135,
      "outputs": [
        {
          "output_type": "execute_result",
          "data": {
            "text/plain": [
              "LTVCluster            1.000000\n",
              "m6_Revenue            0.845933\n",
              "Revenue               0.600491\n",
              "RevenueCluster        0.476024\n",
              "Segment_Mid-Value     0.417662\n",
              "OverallScore          0.379033\n",
              "FrequencyCluster      0.366366\n",
              "Frequency             0.359601\n",
              "RecencyCluster        0.236899\n",
              "Segment_High-Value    0.145587\n",
              "CustomerID           -0.028401\n",
              "Recency              -0.237249\n",
              "Segment_Low-Value    -0.442020\n",
              "Name: LTVCluster, dtype: float64"
            ]
          },
          "metadata": {},
          "execution_count": 135
        }
      ]
    },
    {
      "cell_type": "markdown",
      "metadata": {
        "id": "69XMx6AyJsP-"
      },
      "source": [
        "Мы видим, что 6-месячный доход, частота и результаты RFM будут полезны для наших моделей машинного обучения."
      ]
    },
    {
      "cell_type": "code",
      "metadata": {
        "id": "UTSNeaVcKWeO"
      },
      "source": [
        "X = df_class.drop(['LTVCluster','m6_Revenue'],axis=1)\n",
        "y = df_class['LTVCluster']"
      ],
      "execution_count": 136,
      "outputs": []
    },
    {
      "cell_type": "code",
      "metadata": {
        "id": "b6mWQooWIr52"
      },
      "source": [
        "X_train, X_test, y_train, y_test = train_test_split(X, y, test_size=0.05, random_state=56)"
      ],
      "execution_count": 137,
      "outputs": []
    },
    {
      "cell_type": "code",
      "metadata": {
        "colab": {
          "base_uri": "https://localhost:8080/"
        },
        "id": "6hvRQ3pkI7Mr",
        "outputId": "1f97de53-3081-49ba-c934-7cb7e4269c93"
      },
      "source": [
        "ltv_xgb_model = xgb.XGBClassifier(max_depth=5, learning_rate=0.1,objective= 'multi:softprob',n_jobs=-1).fit(X_train, y_train)\n",
        "print('Accuracy of XGB classifier on training set: {:.2f}'\n",
        "       .format(ltv_xgb_model.score(X_train, y_train)))\n",
        "print('Accuracy of XGB classifier on test set: {:.2f}'\n",
        "       .format(ltv_xgb_model.score(X_test[X_train.columns], y_test)))\n"
      ],
      "execution_count": 138,
      "outputs": [
        {
          "output_type": "stream",
          "name": "stdout",
          "text": [
            "Accuracy of XGB classifier on training set: 0.91\n",
            "Accuracy of XGB classifier on test set: 0.86\n"
          ]
        }
      ]
    },
    {
      "cell_type": "code",
      "metadata": {
        "colab": {
          "base_uri": "https://localhost:8080/"
        },
        "id": "fQ0JLrQOI-p1",
        "outputId": "5081c98c-7563-4def-ce8b-fe2479d0b0a2"
      },
      "source": [
        "y_pred = ltv_xgb_model.predict(X_test)\n",
        "print(classification_report(y_test, y_pred))"
      ],
      "execution_count": 139,
      "outputs": [
        {
          "output_type": "stream",
          "name": "stdout",
          "text": [
            "              precision    recall  f1-score   support\n",
            "\n",
            "           0       0.87      0.97      0.92        70\n",
            "           1       0.80      0.44      0.57        18\n",
            "           2       0.75      0.75      0.75         4\n",
            "\n",
            "    accuracy                           0.86        92\n",
            "   macro avg       0.81      0.72      0.75        92\n",
            "weighted avg       0.85      0.86      0.84        92\n",
            "\n"
          ]
        }
      ]
    },
    {
      "cell_type": "markdown",
      "metadata": {
        "id": "91xtH3VMJWZ9"
      },
      "source": [
        "Самый большой кластер, который у нас есть, - это кластер 0, который составляет 76,5% от общей базы. Если мы слепо скажем, что каждый клиент принадлежит к кластеру 0, то наша точность составит 76,5%.\n",
        "87% против 76,5% говорят нам, что наша модель машинного обучения полезна, но наверняка нуждается в некотором улучшении. Мы должны выяснить, где модель дает сбой."
      ]
    },
    {
      "cell_type": "markdown",
      "metadata": {
        "id": "99SwANJLJWNt"
      },
      "source": [
        "для кластера 0 (низкий LTV), если модель сообщает нам, что этот клиент принадлежит к кластеру 0, 90 из 100 будут правильными (точность). И модель успешно идентифицирует 97% фактических клиентов кластера 0 (полнота). Нам действительно нужно улучшить модель для других кластеров. Например, мы обнаруживаем 80% клиентов среднего уровня LTV. Возможные действия по улучшению этих моментов:\n",
        "\n",
        "* Добавление дополнительных функций и улучшение разработки функций\n",
        "* Попробуйте другие модели, отличные от XGBoost\n",
        "* Примените настройку гиперпараметров к текущей модели\n",
        "* По возможности добавьте в модель дополнительные данные"
      ]
    }
  ]
}