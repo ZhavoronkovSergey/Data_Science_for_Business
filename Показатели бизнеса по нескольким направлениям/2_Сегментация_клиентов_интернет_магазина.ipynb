{
  "nbformat": 4,
  "nbformat_minor": 0,
  "metadata": {
    "colab": {
      "name": "Сегментация клиентов интернет-магазина.ipynb",
      "provenance": [],
      "collapsed_sections": []
    },
    "kernelspec": {
      "name": "python3",
      "display_name": "Python 3"
    },
    "language_info": {
      "name": "python"
    }
  },
  "cells": [
    {
      "cell_type": "markdown",
      "metadata": {
        "id": "pAZg4daqV4AP"
      },
      "source": [
        "# Сегментация клиентов\n",
        "\n",
        "Так как мы не можете относиться к каждому клиенту одинаково с одним и тем же контентом, одним и тем же маркетинговым планом, одинаковой важностью, мы используем сегментацию клиентов\n",
        "\n",
        "Можно выделять множество различных сегментов в соответствии с тем, чего мы пытаемся достичь. Если хотим увеличить коэффициент удержания, вы можете выполнить сегментацию на основе вероятности оттока и принять меры. Но существуют также очень распространенные и полезные методы сегментации. Теперь мы собираемся внедрить один из них в наш бизнес: **RFM**.\n",
        "\n",
        "## Теоретическая сегментация по клиентам:\n",
        "* **Клиенты с низкой ценностью**: Клиенты, которые менее активны, чем другие, не очень частые покупатели/посетители и приносят очень низкий - нулевой - возможно, отрицательный доход.\n",
        "* **Клиенты со средней ценность**: В середине всего. Часто использует нашу платформу (но не так часто, как наши клиенты с высокой ценностью), довольно часто делают покупки и приносит умеренный доход.\n",
        "* **Клиенты с высокой ценностью**: Группа, которую мы не хотим потерять. Высокий доход, хорошая частота покупок и высокая активность.\n",
        "\n",
        "В качестве методологии нам необходимо рассчитать Давность посещения, частоту покупок и стоимость (отныне мы будем называть это доходом) и применить неконтролируемое машинное обучение для определения различных групп (кластеров) для каждой из них.\n",
        "\n",
        "Чтобы рассчитать давность, нам нужно узнать самую последнюю дату покупки каждого клиента и посмотреть, сколько дней они неактивны. После того, как узнаем количество неактивных дней, для каждого клиента мы применим кластеризацию K-средних*, чтобы присвоить клиентам оценку за последнее время."
      ]
    },
    {
      "cell_type": "code",
      "metadata": {
        "id": "013xId7LU5aS"
      },
      "source": [
        "import pandas as pd\n",
        "import numpy as np\n",
        "%matplotlib inline\n",
        "import matplotlib.pyplot as plt\n",
        "import seaborn as sns\n",
        "from __future__ import division\n",
        "from datetime import datetime, timedelta"
      ],
      "execution_count": 44,
      "outputs": []
    },
    {
      "cell_type": "code",
      "metadata": {
        "colab": {
          "base_uri": "https://localhost:8080/",
          "height": 664
        },
        "id": "dn4pAlvlVyAG",
        "outputId": "273b46db-9754-4ec3-cfa8-e488e0f0af29"
      },
      "source": [
        "df = pd.read_csv('OnlineRetail.csv', encoding= 'unicode_escape')\n",
        "print(df.info())\n",
        "print(df.isna().sum())\n",
        "print('Дубликаты', df.duplicated().sum())\n",
        "df.head()"
      ],
      "execution_count": 45,
      "outputs": [
        {
          "output_type": "stream",
          "name": "stdout",
          "text": [
            "<class 'pandas.core.frame.DataFrame'>\n",
            "RangeIndex: 541909 entries, 0 to 541908\n",
            "Data columns (total 8 columns):\n",
            " #   Column       Non-Null Count   Dtype  \n",
            "---  ------       --------------   -----  \n",
            " 0   InvoiceNo    541909 non-null  object \n",
            " 1   StockCode    541909 non-null  object \n",
            " 2   Description  540455 non-null  object \n",
            " 3   Quantity     541909 non-null  int64  \n",
            " 4   InvoiceDate  541909 non-null  object \n",
            " 5   UnitPrice    541909 non-null  float64\n",
            " 6   CustomerID   406829 non-null  float64\n",
            " 7   Country      541909 non-null  object \n",
            "dtypes: float64(2), int64(1), object(5)\n",
            "memory usage: 33.1+ MB\n",
            "None\n",
            "InvoiceNo           0\n",
            "StockCode           0\n",
            "Description      1454\n",
            "Quantity            0\n",
            "InvoiceDate         0\n",
            "UnitPrice           0\n",
            "CustomerID     135080\n",
            "Country             0\n",
            "dtype: int64\n",
            "Дубликаты 5268\n"
          ]
        },
        {
          "output_type": "execute_result",
          "data": {
            "text/html": [
              "<div>\n",
              "<style scoped>\n",
              "    .dataframe tbody tr th:only-of-type {\n",
              "        vertical-align: middle;\n",
              "    }\n",
              "\n",
              "    .dataframe tbody tr th {\n",
              "        vertical-align: top;\n",
              "    }\n",
              "\n",
              "    .dataframe thead th {\n",
              "        text-align: right;\n",
              "    }\n",
              "</style>\n",
              "<table border=\"1\" class=\"dataframe\">\n",
              "  <thead>\n",
              "    <tr style=\"text-align: right;\">\n",
              "      <th></th>\n",
              "      <th>InvoiceNo</th>\n",
              "      <th>StockCode</th>\n",
              "      <th>Description</th>\n",
              "      <th>Quantity</th>\n",
              "      <th>InvoiceDate</th>\n",
              "      <th>UnitPrice</th>\n",
              "      <th>CustomerID</th>\n",
              "      <th>Country</th>\n",
              "    </tr>\n",
              "  </thead>\n",
              "  <tbody>\n",
              "    <tr>\n",
              "      <th>0</th>\n",
              "      <td>536365</td>\n",
              "      <td>85123A</td>\n",
              "      <td>WHITE HANGING HEART T-LIGHT HOLDER</td>\n",
              "      <td>6</td>\n",
              "      <td>12/1/2010 8:26</td>\n",
              "      <td>2.55</td>\n",
              "      <td>17850.0</td>\n",
              "      <td>United Kingdom</td>\n",
              "    </tr>\n",
              "    <tr>\n",
              "      <th>1</th>\n",
              "      <td>536365</td>\n",
              "      <td>71053</td>\n",
              "      <td>WHITE METAL LANTERN</td>\n",
              "      <td>6</td>\n",
              "      <td>12/1/2010 8:26</td>\n",
              "      <td>3.39</td>\n",
              "      <td>17850.0</td>\n",
              "      <td>United Kingdom</td>\n",
              "    </tr>\n",
              "    <tr>\n",
              "      <th>2</th>\n",
              "      <td>536365</td>\n",
              "      <td>84406B</td>\n",
              "      <td>CREAM CUPID HEARTS COAT HANGER</td>\n",
              "      <td>8</td>\n",
              "      <td>12/1/2010 8:26</td>\n",
              "      <td>2.75</td>\n",
              "      <td>17850.0</td>\n",
              "      <td>United Kingdom</td>\n",
              "    </tr>\n",
              "    <tr>\n",
              "      <th>3</th>\n",
              "      <td>536365</td>\n",
              "      <td>84029G</td>\n",
              "      <td>KNITTED UNION FLAG HOT WATER BOTTLE</td>\n",
              "      <td>6</td>\n",
              "      <td>12/1/2010 8:26</td>\n",
              "      <td>3.39</td>\n",
              "      <td>17850.0</td>\n",
              "      <td>United Kingdom</td>\n",
              "    </tr>\n",
              "    <tr>\n",
              "      <th>4</th>\n",
              "      <td>536365</td>\n",
              "      <td>84029E</td>\n",
              "      <td>RED WOOLLY HOTTIE WHITE HEART.</td>\n",
              "      <td>6</td>\n",
              "      <td>12/1/2010 8:26</td>\n",
              "      <td>3.39</td>\n",
              "      <td>17850.0</td>\n",
              "      <td>United Kingdom</td>\n",
              "    </tr>\n",
              "  </tbody>\n",
              "</table>\n",
              "</div>"
            ],
            "text/plain": [
              "  InvoiceNo StockCode  ... CustomerID         Country\n",
              "0    536365    85123A  ...    17850.0  United Kingdom\n",
              "1    536365     71053  ...    17850.0  United Kingdom\n",
              "2    536365    84406B  ...    17850.0  United Kingdom\n",
              "3    536365    84029G  ...    17850.0  United Kingdom\n",
              "4    536365    84029E  ...    17850.0  United Kingdom\n",
              "\n",
              "[5 rows x 8 columns]"
            ]
          },
          "metadata": {},
          "execution_count": 45
        }
      ]
    },
    {
      "cell_type": "markdown",
      "metadata": {
        "id": "d-sSQpo3rbQO"
      },
      "source": [
        "## Кластерезуем время дваности клиентов"
      ]
    },
    {
      "cell_type": "code",
      "metadata": {
        "colab": {
          "base_uri": "https://localhost:8080/",
          "height": 202
        },
        "id": "pHbxYj9zVx85",
        "outputId": "e476d463-3707-4fbb-ff8e-4e9cb5439b61"
      },
      "source": [
        "df['InvoiceDate'] = pd.to_datetime(df['InvoiceDate'])\n",
        "df_uk = df.query(\"Country == 'United Kingdom'\").reset_index(drop=True)\n",
        "df_uk.head()"
      ],
      "execution_count": 46,
      "outputs": [
        {
          "output_type": "execute_result",
          "data": {
            "text/html": [
              "<div>\n",
              "<style scoped>\n",
              "    .dataframe tbody tr th:only-of-type {\n",
              "        vertical-align: middle;\n",
              "    }\n",
              "\n",
              "    .dataframe tbody tr th {\n",
              "        vertical-align: top;\n",
              "    }\n",
              "\n",
              "    .dataframe thead th {\n",
              "        text-align: right;\n",
              "    }\n",
              "</style>\n",
              "<table border=\"1\" class=\"dataframe\">\n",
              "  <thead>\n",
              "    <tr style=\"text-align: right;\">\n",
              "      <th></th>\n",
              "      <th>InvoiceNo</th>\n",
              "      <th>StockCode</th>\n",
              "      <th>Description</th>\n",
              "      <th>Quantity</th>\n",
              "      <th>InvoiceDate</th>\n",
              "      <th>UnitPrice</th>\n",
              "      <th>CustomerID</th>\n",
              "      <th>Country</th>\n",
              "    </tr>\n",
              "  </thead>\n",
              "  <tbody>\n",
              "    <tr>\n",
              "      <th>0</th>\n",
              "      <td>536365</td>\n",
              "      <td>85123A</td>\n",
              "      <td>WHITE HANGING HEART T-LIGHT HOLDER</td>\n",
              "      <td>6</td>\n",
              "      <td>2010-12-01 08:26:00</td>\n",
              "      <td>2.55</td>\n",
              "      <td>17850.0</td>\n",
              "      <td>United Kingdom</td>\n",
              "    </tr>\n",
              "    <tr>\n",
              "      <th>1</th>\n",
              "      <td>536365</td>\n",
              "      <td>71053</td>\n",
              "      <td>WHITE METAL LANTERN</td>\n",
              "      <td>6</td>\n",
              "      <td>2010-12-01 08:26:00</td>\n",
              "      <td>3.39</td>\n",
              "      <td>17850.0</td>\n",
              "      <td>United Kingdom</td>\n",
              "    </tr>\n",
              "    <tr>\n",
              "      <th>2</th>\n",
              "      <td>536365</td>\n",
              "      <td>84406B</td>\n",
              "      <td>CREAM CUPID HEARTS COAT HANGER</td>\n",
              "      <td>8</td>\n",
              "      <td>2010-12-01 08:26:00</td>\n",
              "      <td>2.75</td>\n",
              "      <td>17850.0</td>\n",
              "      <td>United Kingdom</td>\n",
              "    </tr>\n",
              "    <tr>\n",
              "      <th>3</th>\n",
              "      <td>536365</td>\n",
              "      <td>84029G</td>\n",
              "      <td>KNITTED UNION FLAG HOT WATER BOTTLE</td>\n",
              "      <td>6</td>\n",
              "      <td>2010-12-01 08:26:00</td>\n",
              "      <td>3.39</td>\n",
              "      <td>17850.0</td>\n",
              "      <td>United Kingdom</td>\n",
              "    </tr>\n",
              "    <tr>\n",
              "      <th>4</th>\n",
              "      <td>536365</td>\n",
              "      <td>84029E</td>\n",
              "      <td>RED WOOLLY HOTTIE WHITE HEART.</td>\n",
              "      <td>6</td>\n",
              "      <td>2010-12-01 08:26:00</td>\n",
              "      <td>3.39</td>\n",
              "      <td>17850.0</td>\n",
              "      <td>United Kingdom</td>\n",
              "    </tr>\n",
              "  </tbody>\n",
              "</table>\n",
              "</div>"
            ],
            "text/plain": [
              "  InvoiceNo StockCode  ... CustomerID         Country\n",
              "0    536365    85123A  ...    17850.0  United Kingdom\n",
              "1    536365     71053  ...    17850.0  United Kingdom\n",
              "2    536365    84406B  ...    17850.0  United Kingdom\n",
              "3    536365    84029G  ...    17850.0  United Kingdom\n",
              "4    536365    84029E  ...    17850.0  United Kingdom\n",
              "\n",
              "[5 rows x 8 columns]"
            ]
          },
          "metadata": {},
          "execution_count": 46
        }
      ]
    },
    {
      "cell_type": "code",
      "metadata": {
        "colab": {
          "base_uri": "https://localhost:8080/",
          "height": 414
        },
        "id": "HXN-OwnCVx5c",
        "outputId": "40c65f56-8fad-4c1e-994f-b2f8f134ebf9"
      },
      "source": [
        "df_users = pd.DataFrame(df['CustomerID'].unique())\n",
        "df_users.columns = ['CustomerID']\n",
        "df_users"
      ],
      "execution_count": 47,
      "outputs": [
        {
          "output_type": "execute_result",
          "data": {
            "text/html": [
              "<div>\n",
              "<style scoped>\n",
              "    .dataframe tbody tr th:only-of-type {\n",
              "        vertical-align: middle;\n",
              "    }\n",
              "\n",
              "    .dataframe tbody tr th {\n",
              "        vertical-align: top;\n",
              "    }\n",
              "\n",
              "    .dataframe thead th {\n",
              "        text-align: right;\n",
              "    }\n",
              "</style>\n",
              "<table border=\"1\" class=\"dataframe\">\n",
              "  <thead>\n",
              "    <tr style=\"text-align: right;\">\n",
              "      <th></th>\n",
              "      <th>CustomerID</th>\n",
              "    </tr>\n",
              "  </thead>\n",
              "  <tbody>\n",
              "    <tr>\n",
              "      <th>0</th>\n",
              "      <td>17850.0</td>\n",
              "    </tr>\n",
              "    <tr>\n",
              "      <th>1</th>\n",
              "      <td>13047.0</td>\n",
              "    </tr>\n",
              "    <tr>\n",
              "      <th>2</th>\n",
              "      <td>12583.0</td>\n",
              "    </tr>\n",
              "    <tr>\n",
              "      <th>3</th>\n",
              "      <td>13748.0</td>\n",
              "    </tr>\n",
              "    <tr>\n",
              "      <th>4</th>\n",
              "      <td>15100.0</td>\n",
              "    </tr>\n",
              "    <tr>\n",
              "      <th>...</th>\n",
              "      <td>...</td>\n",
              "    </tr>\n",
              "    <tr>\n",
              "      <th>4368</th>\n",
              "      <td>13436.0</td>\n",
              "    </tr>\n",
              "    <tr>\n",
              "      <th>4369</th>\n",
              "      <td>15520.0</td>\n",
              "    </tr>\n",
              "    <tr>\n",
              "      <th>4370</th>\n",
              "      <td>13298.0</td>\n",
              "    </tr>\n",
              "    <tr>\n",
              "      <th>4371</th>\n",
              "      <td>14569.0</td>\n",
              "    </tr>\n",
              "    <tr>\n",
              "      <th>4372</th>\n",
              "      <td>12713.0</td>\n",
              "    </tr>\n",
              "  </tbody>\n",
              "</table>\n",
              "<p>4373 rows × 1 columns</p>\n",
              "</div>"
            ],
            "text/plain": [
              "      CustomerID\n",
              "0        17850.0\n",
              "1        13047.0\n",
              "2        12583.0\n",
              "3        13748.0\n",
              "4        15100.0\n",
              "...          ...\n",
              "4368     13436.0\n",
              "4369     15520.0\n",
              "4370     13298.0\n",
              "4371     14569.0\n",
              "4372     12713.0\n",
              "\n",
              "[4373 rows x 1 columns]"
            ]
          },
          "metadata": {},
          "execution_count": 47
        }
      ]
    },
    {
      "cell_type": "code",
      "metadata": {
        "colab": {
          "base_uri": "https://localhost:8080/",
          "height": 414
        },
        "id": "1JPgnk4wVxzm",
        "outputId": "58eea90a-6ae2-4795-a7a9-e2bed46caf25"
      },
      "source": [
        "df_max_purchase = df_uk.groupby('CustomerID').InvoiceDate.max().reset_index()\n",
        "df_max_purchase.columns = ['CustomerID','MaxPurchaseDate']\n",
        "df_max_purchase"
      ],
      "execution_count": 48,
      "outputs": [
        {
          "output_type": "execute_result",
          "data": {
            "text/html": [
              "<div>\n",
              "<style scoped>\n",
              "    .dataframe tbody tr th:only-of-type {\n",
              "        vertical-align: middle;\n",
              "    }\n",
              "\n",
              "    .dataframe tbody tr th {\n",
              "        vertical-align: top;\n",
              "    }\n",
              "\n",
              "    .dataframe thead th {\n",
              "        text-align: right;\n",
              "    }\n",
              "</style>\n",
              "<table border=\"1\" class=\"dataframe\">\n",
              "  <thead>\n",
              "    <tr style=\"text-align: right;\">\n",
              "      <th></th>\n",
              "      <th>CustomerID</th>\n",
              "      <th>MaxPurchaseDate</th>\n",
              "    </tr>\n",
              "  </thead>\n",
              "  <tbody>\n",
              "    <tr>\n",
              "      <th>0</th>\n",
              "      <td>12346.0</td>\n",
              "      <td>2011-01-18 10:17:00</td>\n",
              "    </tr>\n",
              "    <tr>\n",
              "      <th>1</th>\n",
              "      <td>12747.0</td>\n",
              "      <td>2011-12-07 14:34:00</td>\n",
              "    </tr>\n",
              "    <tr>\n",
              "      <th>2</th>\n",
              "      <td>12748.0</td>\n",
              "      <td>2011-12-09 12:20:00</td>\n",
              "    </tr>\n",
              "    <tr>\n",
              "      <th>3</th>\n",
              "      <td>12749.0</td>\n",
              "      <td>2011-12-06 09:56:00</td>\n",
              "    </tr>\n",
              "    <tr>\n",
              "      <th>4</th>\n",
              "      <td>12820.0</td>\n",
              "      <td>2011-12-06 15:12:00</td>\n",
              "    </tr>\n",
              "    <tr>\n",
              "      <th>...</th>\n",
              "      <td>...</td>\n",
              "      <td>...</td>\n",
              "    </tr>\n",
              "    <tr>\n",
              "      <th>3945</th>\n",
              "      <td>18280.0</td>\n",
              "      <td>2011-03-07 09:52:00</td>\n",
              "    </tr>\n",
              "    <tr>\n",
              "      <th>3946</th>\n",
              "      <td>18281.0</td>\n",
              "      <td>2011-06-12 10:53:00</td>\n",
              "    </tr>\n",
              "    <tr>\n",
              "      <th>3947</th>\n",
              "      <td>18282.0</td>\n",
              "      <td>2011-12-02 11:43:00</td>\n",
              "    </tr>\n",
              "    <tr>\n",
              "      <th>3948</th>\n",
              "      <td>18283.0</td>\n",
              "      <td>2011-12-06 12:02:00</td>\n",
              "    </tr>\n",
              "    <tr>\n",
              "      <th>3949</th>\n",
              "      <td>18287.0</td>\n",
              "      <td>2011-10-28 09:29:00</td>\n",
              "    </tr>\n",
              "  </tbody>\n",
              "</table>\n",
              "<p>3950 rows × 2 columns</p>\n",
              "</div>"
            ],
            "text/plain": [
              "      CustomerID     MaxPurchaseDate\n",
              "0        12346.0 2011-01-18 10:17:00\n",
              "1        12747.0 2011-12-07 14:34:00\n",
              "2        12748.0 2011-12-09 12:20:00\n",
              "3        12749.0 2011-12-06 09:56:00\n",
              "4        12820.0 2011-12-06 15:12:00\n",
              "...          ...                 ...\n",
              "3945     18280.0 2011-03-07 09:52:00\n",
              "3946     18281.0 2011-06-12 10:53:00\n",
              "3947     18282.0 2011-12-02 11:43:00\n",
              "3948     18283.0 2011-12-06 12:02:00\n",
              "3949     18287.0 2011-10-28 09:29:00\n",
              "\n",
              "[3950 rows x 2 columns]"
            ]
          },
          "metadata": {},
          "execution_count": 48
        }
      ]
    },
    {
      "cell_type": "code",
      "metadata": {
        "colab": {
          "base_uri": "https://localhost:8080/",
          "height": 414
        },
        "id": "YDtP2IbJVxvz",
        "outputId": "8d442737-615c-470e-8768-328e64d43fc3"
      },
      "source": [
        "df_max_purchase['Recency'] = (df_max_purchase['MaxPurchaseDate'].max() - df_max_purchase['MaxPurchaseDate']).dt.days\n",
        "df_max_purchase"
      ],
      "execution_count": 49,
      "outputs": [
        {
          "output_type": "execute_result",
          "data": {
            "text/html": [
              "<div>\n",
              "<style scoped>\n",
              "    .dataframe tbody tr th:only-of-type {\n",
              "        vertical-align: middle;\n",
              "    }\n",
              "\n",
              "    .dataframe tbody tr th {\n",
              "        vertical-align: top;\n",
              "    }\n",
              "\n",
              "    .dataframe thead th {\n",
              "        text-align: right;\n",
              "    }\n",
              "</style>\n",
              "<table border=\"1\" class=\"dataframe\">\n",
              "  <thead>\n",
              "    <tr style=\"text-align: right;\">\n",
              "      <th></th>\n",
              "      <th>CustomerID</th>\n",
              "      <th>MaxPurchaseDate</th>\n",
              "      <th>Recency</th>\n",
              "    </tr>\n",
              "  </thead>\n",
              "  <tbody>\n",
              "    <tr>\n",
              "      <th>0</th>\n",
              "      <td>12346.0</td>\n",
              "      <td>2011-01-18 10:17:00</td>\n",
              "      <td>325</td>\n",
              "    </tr>\n",
              "    <tr>\n",
              "      <th>1</th>\n",
              "      <td>12747.0</td>\n",
              "      <td>2011-12-07 14:34:00</td>\n",
              "      <td>1</td>\n",
              "    </tr>\n",
              "    <tr>\n",
              "      <th>2</th>\n",
              "      <td>12748.0</td>\n",
              "      <td>2011-12-09 12:20:00</td>\n",
              "      <td>0</td>\n",
              "    </tr>\n",
              "    <tr>\n",
              "      <th>3</th>\n",
              "      <td>12749.0</td>\n",
              "      <td>2011-12-06 09:56:00</td>\n",
              "      <td>3</td>\n",
              "    </tr>\n",
              "    <tr>\n",
              "      <th>4</th>\n",
              "      <td>12820.0</td>\n",
              "      <td>2011-12-06 15:12:00</td>\n",
              "      <td>2</td>\n",
              "    </tr>\n",
              "    <tr>\n",
              "      <th>...</th>\n",
              "      <td>...</td>\n",
              "      <td>...</td>\n",
              "      <td>...</td>\n",
              "    </tr>\n",
              "    <tr>\n",
              "      <th>3945</th>\n",
              "      <td>18280.0</td>\n",
              "      <td>2011-03-07 09:52:00</td>\n",
              "      <td>277</td>\n",
              "    </tr>\n",
              "    <tr>\n",
              "      <th>3946</th>\n",
              "      <td>18281.0</td>\n",
              "      <td>2011-06-12 10:53:00</td>\n",
              "      <td>180</td>\n",
              "    </tr>\n",
              "    <tr>\n",
              "      <th>3947</th>\n",
              "      <td>18282.0</td>\n",
              "      <td>2011-12-02 11:43:00</td>\n",
              "      <td>7</td>\n",
              "    </tr>\n",
              "    <tr>\n",
              "      <th>3948</th>\n",
              "      <td>18283.0</td>\n",
              "      <td>2011-12-06 12:02:00</td>\n",
              "      <td>3</td>\n",
              "    </tr>\n",
              "    <tr>\n",
              "      <th>3949</th>\n",
              "      <td>18287.0</td>\n",
              "      <td>2011-10-28 09:29:00</td>\n",
              "      <td>42</td>\n",
              "    </tr>\n",
              "  </tbody>\n",
              "</table>\n",
              "<p>3950 rows × 3 columns</p>\n",
              "</div>"
            ],
            "text/plain": [
              "      CustomerID     MaxPurchaseDate  Recency\n",
              "0        12346.0 2011-01-18 10:17:00      325\n",
              "1        12747.0 2011-12-07 14:34:00        1\n",
              "2        12748.0 2011-12-09 12:20:00        0\n",
              "3        12749.0 2011-12-06 09:56:00        3\n",
              "4        12820.0 2011-12-06 15:12:00        2\n",
              "...          ...                 ...      ...\n",
              "3945     18280.0 2011-03-07 09:52:00      277\n",
              "3946     18281.0 2011-06-12 10:53:00      180\n",
              "3947     18282.0 2011-12-02 11:43:00        7\n",
              "3948     18283.0 2011-12-06 12:02:00        3\n",
              "3949     18287.0 2011-10-28 09:29:00       42\n",
              "\n",
              "[3950 rows x 3 columns]"
            ]
          },
          "metadata": {},
          "execution_count": 49
        }
      ]
    },
    {
      "cell_type": "code",
      "metadata": {
        "colab": {
          "base_uri": "https://localhost:8080/",
          "height": 414
        },
        "id": "8UweLsvdVxqK",
        "outputId": "256976e9-b08c-4058-a7c6-3356f0a39af1"
      },
      "source": [
        "df_users = pd.merge(df_users, df_max_purchase[['CustomerID','Recency']], on='CustomerID')\n",
        "df_users"
      ],
      "execution_count": 50,
      "outputs": [
        {
          "output_type": "execute_result",
          "data": {
            "text/html": [
              "<div>\n",
              "<style scoped>\n",
              "    .dataframe tbody tr th:only-of-type {\n",
              "        vertical-align: middle;\n",
              "    }\n",
              "\n",
              "    .dataframe tbody tr th {\n",
              "        vertical-align: top;\n",
              "    }\n",
              "\n",
              "    .dataframe thead th {\n",
              "        text-align: right;\n",
              "    }\n",
              "</style>\n",
              "<table border=\"1\" class=\"dataframe\">\n",
              "  <thead>\n",
              "    <tr style=\"text-align: right;\">\n",
              "      <th></th>\n",
              "      <th>CustomerID</th>\n",
              "      <th>Recency</th>\n",
              "    </tr>\n",
              "  </thead>\n",
              "  <tbody>\n",
              "    <tr>\n",
              "      <th>0</th>\n",
              "      <td>17850.0</td>\n",
              "      <td>301</td>\n",
              "    </tr>\n",
              "    <tr>\n",
              "      <th>1</th>\n",
              "      <td>13047.0</td>\n",
              "      <td>31</td>\n",
              "    </tr>\n",
              "    <tr>\n",
              "      <th>2</th>\n",
              "      <td>13748.0</td>\n",
              "      <td>95</td>\n",
              "    </tr>\n",
              "    <tr>\n",
              "      <th>3</th>\n",
              "      <td>15100.0</td>\n",
              "      <td>329</td>\n",
              "    </tr>\n",
              "    <tr>\n",
              "      <th>4</th>\n",
              "      <td>15291.0</td>\n",
              "      <td>25</td>\n",
              "    </tr>\n",
              "    <tr>\n",
              "      <th>...</th>\n",
              "      <td>...</td>\n",
              "      <td>...</td>\n",
              "    </tr>\n",
              "    <tr>\n",
              "      <th>3945</th>\n",
              "      <td>15471.0</td>\n",
              "      <td>1</td>\n",
              "    </tr>\n",
              "    <tr>\n",
              "      <th>3946</th>\n",
              "      <td>13436.0</td>\n",
              "      <td>1</td>\n",
              "    </tr>\n",
              "    <tr>\n",
              "      <th>3947</th>\n",
              "      <td>15520.0</td>\n",
              "      <td>1</td>\n",
              "    </tr>\n",
              "    <tr>\n",
              "      <th>3948</th>\n",
              "      <td>13298.0</td>\n",
              "      <td>0</td>\n",
              "    </tr>\n",
              "    <tr>\n",
              "      <th>3949</th>\n",
              "      <td>14569.0</td>\n",
              "      <td>0</td>\n",
              "    </tr>\n",
              "  </tbody>\n",
              "</table>\n",
              "<p>3950 rows × 2 columns</p>\n",
              "</div>"
            ],
            "text/plain": [
              "      CustomerID  Recency\n",
              "0        17850.0      301\n",
              "1        13047.0       31\n",
              "2        13748.0       95\n",
              "3        15100.0      329\n",
              "4        15291.0       25\n",
              "...          ...      ...\n",
              "3945     15471.0        1\n",
              "3946     13436.0        1\n",
              "3947     15520.0        1\n",
              "3948     13298.0        0\n",
              "3949     14569.0        0\n",
              "\n",
              "[3950 rows x 2 columns]"
            ]
          },
          "metadata": {},
          "execution_count": 50
        }
      ]
    },
    {
      "cell_type": "code",
      "metadata": {
        "colab": {
          "base_uri": "https://localhost:8080/"
        },
        "id": "Gfl3St3xVxm6",
        "outputId": "dd944ef6-664c-4c55-c689-84f56053c886"
      },
      "source": [
        "df_users.Recency.describe()"
      ],
      "execution_count": 51,
      "outputs": [
        {
          "output_type": "execute_result",
          "data": {
            "text/plain": [
              "count    3950.000000\n",
              "mean       90.778481\n",
              "std       100.230349\n",
              "min         0.000000\n",
              "25%        16.000000\n",
              "50%        49.000000\n",
              "75%       142.000000\n",
              "max       373.000000\n",
              "Name: Recency, dtype: float64"
            ]
          },
          "metadata": {},
          "execution_count": 51
        }
      ]
    },
    {
      "cell_type": "markdown",
      "metadata": {
        "id": "stJRuGWHrhgs"
      },
      "source": [
        "Мы видим, что, хотя среднее значение составляет 90 дней, медиана составляет 49."
      ]
    },
    {
      "cell_type": "code",
      "metadata": {
        "colab": {
          "base_uri": "https://localhost:8080/",
          "height": 405
        },
        "id": "KOmiUL1DVxhZ",
        "outputId": "5c2a9e65-9224-4d60-c377-af64acbed468"
      },
      "source": [
        "plt.subplots(figsize=(15, 6))\n",
        "sns.histplot(df_users['Recency'])"
      ],
      "execution_count": 52,
      "outputs": [
        {
          "output_type": "execute_result",
          "data": {
            "text/plain": [
              "<matplotlib.axes._subplots.AxesSubplot at 0x7fdc84fda110>"
            ]
          },
          "metadata": {},
          "execution_count": 52
        },
        {
          "output_type": "display_data",
          "data": {
            "image/png": "[encoded data removed]",
            "text/plain": [
              "<Figure size 1080x432 with 1 Axes>"
            ]
          },
          "metadata": {
            "needs_background": "light"
          }
        }
      ]
    },
    {
      "cell_type": "code",
      "metadata": {
        "colab": {
          "base_uri": "https://localhost:8080/",
          "height": 290
        },
        "id": "jCNZBcV8Vxeo",
        "outputId": "9ed07310-7a74-4ed8-8713-6115a2fd8ec7"
      },
      "source": [
        "from sklearn.cluster import KMeans\n",
        "\n",
        "sse={}\n",
        "df_recency = df_users[['Recency']]\n",
        "for k in range(1, 10):\n",
        "    kmeans = KMeans(n_clusters=k, max_iter=1000).fit(df_recency)\n",
        "    df_recency[\"clusters\"] = kmeans.labels_\n",
        "    sse[k] = kmeans.inertia_ \n",
        "plt.figure()\n",
        "plt.plot(list(sse.keys()), list(sse.values()))\n",
        "plt.xlabel(\"Number of cluster\")\n",
        "plt.show()"
      ],
      "execution_count": 53,
      "outputs": [
        {
          "output_type": "display_data",
          "data": {
            "image/png": "[encoded data removed]",
            "text/plain": [
              "<Figure size 432x288 with 1 Axes>"
            ]
          },
          "metadata": {
            "needs_background": "light"
          }
        }
      ]
    },
    {
      "cell_type": "markdown",
      "metadata": {
        "id": "SSclf2wAXONe"
      },
      "source": [
        "Здесь 3 группы являются оптимальным. Основываясь на бизнес-требованиях, мы можем использовать меньше или больше кластеров. Мы выберем 4 для этого примера:\n"
      ]
    },
    {
      "cell_type": "code",
      "metadata": {
        "colab": {
          "base_uri": "https://localhost:8080/",
          "height": 414
        },
        "id": "nGhtpdilVxbf",
        "outputId": "969b59d9-b577-49fc-f2ae-d03e6999f46f"
      },
      "source": [
        "kmeans = KMeans(n_clusters=4)\n",
        "kmeans.fit(df_users[['Recency']])\n",
        "df_users['RecencyCluster'] = kmeans.predict(df_users[['Recency']])\n",
        "\n",
        "def order_cluster(cluster_field_name, target_field_name, df_n, ascending):\n",
        "    new_cluster_field_name = 'new_' + cluster_field_name\n",
        "    df_new = df_n.groupby(cluster_field_name)[target_field_name].mean().reset_index()\n",
        "    df_new = df_new.sort_values(by=target_field_name,ascending=ascending).reset_index(drop=True)\n",
        "    df_new['index'] = df_new.index\n",
        "    df_final = pd.merge(df_n,df_new[[cluster_field_name,'index']], on=cluster_field_name)\n",
        "    df_final = df_final.drop([cluster_field_name],axis=1)\n",
        "    df_final = df_final.rename(columns={\"index\":cluster_field_name})\n",
        "    return df_final\n",
        "\n",
        "df_users = order_cluster('RecencyCluster', 'Recency', df_users, False)\n",
        "df_users"
      ],
      "execution_count": 54,
      "outputs": [
        {
          "output_type": "execute_result",
          "data": {
            "text/html": [
              "<div>\n",
              "<style scoped>\n",
              "    .dataframe tbody tr th:only-of-type {\n",
              "        vertical-align: middle;\n",
              "    }\n",
              "\n",
              "    .dataframe tbody tr th {\n",
              "        vertical-align: top;\n",
              "    }\n",
              "\n",
              "    .dataframe thead th {\n",
              "        text-align: right;\n",
              "    }\n",
              "</style>\n",
              "<table border=\"1\" class=\"dataframe\">\n",
              "  <thead>\n",
              "    <tr style=\"text-align: right;\">\n",
              "      <th></th>\n",
              "      <th>CustomerID</th>\n",
              "      <th>Recency</th>\n",
              "      <th>RecencyCluster</th>\n",
              "    </tr>\n",
              "  </thead>\n",
              "  <tbody>\n",
              "    <tr>\n",
              "      <th>0</th>\n",
              "      <td>17850.0</td>\n",
              "      <td>301</td>\n",
              "      <td>0</td>\n",
              "    </tr>\n",
              "    <tr>\n",
              "      <th>1</th>\n",
              "      <td>15100.0</td>\n",
              "      <td>329</td>\n",
              "      <td>0</td>\n",
              "    </tr>\n",
              "    <tr>\n",
              "      <th>2</th>\n",
              "      <td>18074.0</td>\n",
              "      <td>373</td>\n",
              "      <td>0</td>\n",
              "    </tr>\n",
              "    <tr>\n",
              "      <th>3</th>\n",
              "      <td>16250.0</td>\n",
              "      <td>260</td>\n",
              "      <td>0</td>\n",
              "    </tr>\n",
              "    <tr>\n",
              "      <th>4</th>\n",
              "      <td>13747.0</td>\n",
              "      <td>373</td>\n",
              "      <td>0</td>\n",
              "    </tr>\n",
              "    <tr>\n",
              "      <th>...</th>\n",
              "      <td>...</td>\n",
              "      <td>...</td>\n",
              "      <td>...</td>\n",
              "    </tr>\n",
              "    <tr>\n",
              "      <th>3945</th>\n",
              "      <td>15942.0</td>\n",
              "      <td>133</td>\n",
              "      <td>1</td>\n",
              "    </tr>\n",
              "    <tr>\n",
              "      <th>3946</th>\n",
              "      <td>14143.0</td>\n",
              "      <td>133</td>\n",
              "      <td>1</td>\n",
              "    </tr>\n",
              "    <tr>\n",
              "      <th>3947</th>\n",
              "      <td>16147.0</td>\n",
              "      <td>133</td>\n",
              "      <td>1</td>\n",
              "    </tr>\n",
              "    <tr>\n",
              "      <th>3948</th>\n",
              "      <td>15149.0</td>\n",
              "      <td>133</td>\n",
              "      <td>1</td>\n",
              "    </tr>\n",
              "    <tr>\n",
              "      <th>3949</th>\n",
              "      <td>15776.0</td>\n",
              "      <td>132</td>\n",
              "      <td>1</td>\n",
              "    </tr>\n",
              "  </tbody>\n",
              "</table>\n",
              "<p>3950 rows × 3 columns</p>\n",
              "</div>"
            ],
            "text/plain": [
              "      CustomerID  Recency  RecencyCluster\n",
              "0        17850.0      301               0\n",
              "1        15100.0      329               0\n",
              "2        18074.0      373               0\n",
              "3        16250.0      260               0\n",
              "4        13747.0      373               0\n",
              "...          ...      ...             ...\n",
              "3945     15942.0      133               1\n",
              "3946     14143.0      133               1\n",
              "3947     16147.0      133               1\n",
              "3948     15149.0      133               1\n",
              "3949     15776.0      132               1\n",
              "\n",
              "[3950 rows x 3 columns]"
            ]
          },
          "metadata": {},
          "execution_count": 54
        }
      ]
    },
    {
      "cell_type": "code",
      "metadata": {
        "colab": {
          "base_uri": "https://localhost:8080/",
          "height": 232
        },
        "id": "_wGIKfDWVxYy",
        "outputId": "bd8f314c-f83a-4d97-9cb6-c6aa0b8a6f2a"
      },
      "source": [
        "df_users.groupby(['RecencyCluster']).agg({'Recency' : 'describe'})\n"
      ],
      "execution_count": 55,
      "outputs": [
        {
          "output_type": "execute_result",
          "data": {
            "text/html": [
              "<div>\n",
              "<style scoped>\n",
              "    .dataframe tbody tr th:only-of-type {\n",
              "        vertical-align: middle;\n",
              "    }\n",
              "\n",
              "    .dataframe tbody tr th {\n",
              "        vertical-align: top;\n",
              "    }\n",
              "\n",
              "    .dataframe thead tr th {\n",
              "        text-align: left;\n",
              "    }\n",
              "\n",
              "    .dataframe thead tr:last-of-type th {\n",
              "        text-align: right;\n",
              "    }\n",
              "</style>\n",
              "<table border=\"1\" class=\"dataframe\">\n",
              "  <thead>\n",
              "    <tr>\n",
              "      <th></th>\n",
              "      <th colspan=\"8\" halign=\"left\">Recency</th>\n",
              "    </tr>\n",
              "    <tr>\n",
              "      <th></th>\n",
              "      <th>count</th>\n",
              "      <th>mean</th>\n",
              "      <th>std</th>\n",
              "      <th>min</th>\n",
              "      <th>25%</th>\n",
              "      <th>50%</th>\n",
              "      <th>75%</th>\n",
              "      <th>max</th>\n",
              "    </tr>\n",
              "    <tr>\n",
              "      <th>RecencyCluster</th>\n",
              "      <th></th>\n",
              "      <th></th>\n",
              "      <th></th>\n",
              "      <th></th>\n",
              "      <th></th>\n",
              "      <th></th>\n",
              "      <th></th>\n",
              "      <th></th>\n",
              "    </tr>\n",
              "  </thead>\n",
              "  <tbody>\n",
              "    <tr>\n",
              "      <th>0</th>\n",
              "      <td>478.0</td>\n",
              "      <td>304.393305</td>\n",
              "      <td>41.183489</td>\n",
              "      <td>245.0</td>\n",
              "      <td>266.25</td>\n",
              "      <td>300.0</td>\n",
              "      <td>336.00</td>\n",
              "      <td>373.0</td>\n",
              "    </tr>\n",
              "    <tr>\n",
              "      <th>1</th>\n",
              "      <td>568.0</td>\n",
              "      <td>184.625000</td>\n",
              "      <td>31.753602</td>\n",
              "      <td>132.0</td>\n",
              "      <td>156.75</td>\n",
              "      <td>184.0</td>\n",
              "      <td>211.25</td>\n",
              "      <td>244.0</td>\n",
              "    </tr>\n",
              "    <tr>\n",
              "      <th>2</th>\n",
              "      <td>954.0</td>\n",
              "      <td>77.679245</td>\n",
              "      <td>22.850898</td>\n",
              "      <td>48.0</td>\n",
              "      <td>59.00</td>\n",
              "      <td>72.5</td>\n",
              "      <td>93.00</td>\n",
              "      <td>131.0</td>\n",
              "    </tr>\n",
              "    <tr>\n",
              "      <th>3</th>\n",
              "      <td>1950.0</td>\n",
              "      <td>17.488205</td>\n",
              "      <td>13.237058</td>\n",
              "      <td>0.0</td>\n",
              "      <td>6.00</td>\n",
              "      <td>16.0</td>\n",
              "      <td>28.00</td>\n",
              "      <td>47.0</td>\n",
              "    </tr>\n",
              "  </tbody>\n",
              "</table>\n",
              "</div>"
            ],
            "text/plain": [
              "               Recency                         ...                      \n",
              "                 count        mean        std  ...    50%     75%    max\n",
              "RecencyCluster                                 ...                      \n",
              "0                478.0  304.393305  41.183489  ...  300.0  336.00  373.0\n",
              "1                568.0  184.625000  31.753602  ...  184.0  211.25  244.0\n",
              "2                954.0   77.679245  22.850898  ...   72.5   93.00  131.0\n",
              "3               1950.0   17.488205  13.237058  ...   16.0   28.00   47.0\n",
              "\n",
              "[4 rows x 8 columns]"
            ]
          },
          "metadata": {},
          "execution_count": 55
        }
      ]
    },
    {
      "cell_type": "markdown",
      "metadata": {
        "id": "NpFW5_SRro5v"
      },
      "source": [
        "### Кластерезуем частоту покупок\n",
        "Для создания частотных кластеров нам нужно найти общее количество заказов для каждого клиента. "
      ]
    },
    {
      "cell_type": "code",
      "metadata": {
        "id": "0cA5ilxMVxWX"
      },
      "source": [
        "df_frequency = df_uk.groupby('CustomerID').InvoiceDate.count().reset_index()\n",
        "df_frequency.columns = ['CustomerID','Frequency']\n",
        "df_users = pd.merge(df_users, df_frequency, on='CustomerID')"
      ],
      "execution_count": 56,
      "outputs": []
    },
    {
      "cell_type": "code",
      "metadata": {
        "id": "2wAQ9dcEsyeA"
      },
      "source": [
        "df_users_graf = df_users.query(\"Frequency < 1000\")"
      ],
      "execution_count": 57,
      "outputs": []
    },
    {
      "cell_type": "code",
      "metadata": {
        "colab": {
          "base_uri": "https://localhost:8080/",
          "height": 405
        },
        "id": "hW_5cop4VxUW",
        "outputId": "c2c544eb-3424-4254-f1d5-5dfcfad09b2c"
      },
      "source": [
        "plt.subplots(figsize=(15, 6))\n",
        "sns.histplot(df_users_graf['Frequency'])"
      ],
      "execution_count": 58,
      "outputs": [
        {
          "output_type": "execute_result",
          "data": {
            "text/plain": [
              "<matplotlib.axes._subplots.AxesSubplot at 0x7fdc84ea9e90>"
            ]
          },
          "metadata": {},
          "execution_count": 58
        },
        {
          "output_type": "display_data",
          "data": {
            "image/png": "[encoded data removed]",
            "text/plain": [
              "<Figure size 1080x432 with 1 Axes>"
            ]
          },
          "metadata": {
            "needs_background": "light"
          }
        }
      ]
    },
    {
      "cell_type": "code",
      "metadata": {
        "colab": {
          "base_uri": "https://localhost:8080/",
          "height": 202
        },
        "id": "Ru1FeZrLsV9d",
        "outputId": "4261bd1d-5106-4a0b-8106-0c20b1b10d62"
      },
      "source": [
        "kmeans = KMeans(n_clusters=4)\n",
        "kmeans.fit(df_users[['Frequency']])\n",
        "df_users['FrequencyCluster'] = kmeans.predict(df_users[['Frequency']])\n",
        "df_users = order_cluster('FrequencyCluster', 'Frequency',df_users,True)\n",
        "df_users.groupby('FrequencyCluster')['Frequency'].describe()"
      ],
      "execution_count": 59,
      "outputs": [
        {
          "output_type": "execute_result",
          "data": {
            "text/html": [
              "<div>\n",
              "<style scoped>\n",
              "    .dataframe tbody tr th:only-of-type {\n",
              "        vertical-align: middle;\n",
              "    }\n",
              "\n",
              "    .dataframe tbody tr th {\n",
              "        vertical-align: top;\n",
              "    }\n",
              "\n",
              "    .dataframe thead th {\n",
              "        text-align: right;\n",
              "    }\n",
              "</style>\n",
              "<table border=\"1\" class=\"dataframe\">\n",
              "  <thead>\n",
              "    <tr style=\"text-align: right;\">\n",
              "      <th></th>\n",
              "      <th>count</th>\n",
              "      <th>mean</th>\n",
              "      <th>std</th>\n",
              "      <th>min</th>\n",
              "      <th>25%</th>\n",
              "      <th>50%</th>\n",
              "      <th>75%</th>\n",
              "      <th>max</th>\n",
              "    </tr>\n",
              "    <tr>\n",
              "      <th>FrequencyCluster</th>\n",
              "      <th></th>\n",
              "      <th></th>\n",
              "      <th></th>\n",
              "      <th></th>\n",
              "      <th></th>\n",
              "      <th></th>\n",
              "      <th></th>\n",
              "      <th></th>\n",
              "    </tr>\n",
              "  </thead>\n",
              "  <tbody>\n",
              "    <tr>\n",
              "      <th>0</th>\n",
              "      <td>3496.0</td>\n",
              "      <td>49.525744</td>\n",
              "      <td>44.954212</td>\n",
              "      <td>1.0</td>\n",
              "      <td>15.0</td>\n",
              "      <td>33.0</td>\n",
              "      <td>73.0</td>\n",
              "      <td>190.0</td>\n",
              "    </tr>\n",
              "    <tr>\n",
              "      <th>1</th>\n",
              "      <td>429.0</td>\n",
              "      <td>331.221445</td>\n",
              "      <td>133.856510</td>\n",
              "      <td>191.0</td>\n",
              "      <td>228.0</td>\n",
              "      <td>287.0</td>\n",
              "      <td>399.0</td>\n",
              "      <td>803.0</td>\n",
              "    </tr>\n",
              "    <tr>\n",
              "      <th>2</th>\n",
              "      <td>22.0</td>\n",
              "      <td>1313.136364</td>\n",
              "      <td>505.934524</td>\n",
              "      <td>872.0</td>\n",
              "      <td>988.5</td>\n",
              "      <td>1140.0</td>\n",
              "      <td>1452.0</td>\n",
              "      <td>2782.0</td>\n",
              "    </tr>\n",
              "    <tr>\n",
              "      <th>3</th>\n",
              "      <td>3.0</td>\n",
              "      <td>5917.666667</td>\n",
              "      <td>1805.062418</td>\n",
              "      <td>4642.0</td>\n",
              "      <td>4885.0</td>\n",
              "      <td>5128.0</td>\n",
              "      <td>6555.5</td>\n",
              "      <td>7983.0</td>\n",
              "    </tr>\n",
              "  </tbody>\n",
              "</table>\n",
              "</div>"
            ],
            "text/plain": [
              "                   count         mean          std  ...     50%     75%     max\n",
              "FrequencyCluster                                    ...                        \n",
              "0                 3496.0    49.525744    44.954212  ...    33.0    73.0   190.0\n",
              "1                  429.0   331.221445   133.856510  ...   287.0   399.0   803.0\n",
              "2                   22.0  1313.136364   505.934524  ...  1140.0  1452.0  2782.0\n",
              "3                    3.0  5917.666667  1805.062418  ...  5128.0  6555.5  7983.0\n",
              "\n",
              "[4 rows x 8 columns]"
            ]
          },
          "metadata": {},
          "execution_count": 59
        }
      ]
    },
    {
      "cell_type": "code",
      "metadata": {
        "id": "J8iv8kFEsV63"
      },
      "source": [
        "df_uk['Revenue'] = df_uk['UnitPrice'] * df_uk['Quantity']\n",
        "df_revenue = df_uk.groupby('CustomerID').Revenue.sum().reset_index()\n",
        "df_users = pd.merge(df_users, df_revenue, on='CustomerID')"
      ],
      "execution_count": 60,
      "outputs": []
    },
    {
      "cell_type": "code",
      "metadata": {
        "id": "bdSEZYI9vWPo"
      },
      "source": [
        "df_users_rev = df_users.query(\"Revenue < 20000\")"
      ],
      "execution_count": 61,
      "outputs": []
    },
    {
      "cell_type": "code",
      "metadata": {
        "colab": {
          "base_uri": "https://localhost:8080/",
          "height": 405
        },
        "id": "U5VXLQgrsV4F",
        "outputId": "aa5b65c4-701c-4d6d-bedd-52d9c2e50037"
      },
      "source": [
        "plt.subplots(figsize=(15, 6))\n",
        "sns.histplot(df_users_rev['Revenue'])"
      ],
      "execution_count": 62,
      "outputs": [
        {
          "output_type": "execute_result",
          "data": {
            "text/plain": [
              "<matplotlib.axes._subplots.AxesSubplot at 0x7fdc84ce74d0>"
            ]
          },
          "metadata": {},
          "execution_count": 62
        },
        {
          "output_type": "display_data",
          "data": {
            "image/png": "[encoded data removed]",
            "text/plain": [
              "<Figure size 1080x432 with 1 Axes>"
            ]
          },
          "metadata": {
            "needs_background": "light"
          }
        }
      ]
    },
    {
      "cell_type": "markdown",
      "metadata": {
        "id": "alyTQ6QywEnf"
      },
      "source": [
        "У нас также есть некоторые клиенты с отрицательной выручкой. Давайте продолжим и применим кластеризацию k-средних:\n"
      ]
    },
    {
      "cell_type": "code",
      "metadata": {
        "colab": {
          "base_uri": "https://localhost:8080/",
          "height": 202
        },
        "id": "2LO28KVovlAD",
        "outputId": "76fa0917-57fb-4428-d07c-81e74da53c5a"
      },
      "source": [
        "kmeans = KMeans(n_clusters=4)\n",
        "kmeans.fit(df_users[['Revenue']])\n",
        "df_users['RevenueCluster'] = kmeans.predict(df_users[['Revenue']])\n",
        "df_users = order_cluster('RevenueCluster', 'Revenue',df_users,True)\n",
        "df_users.groupby('RevenueCluster')['Revenue'].describe()"
      ],
      "execution_count": 63,
      "outputs": [
        {
          "output_type": "execute_result",
          "data": {
            "text/html": [
              "<div>\n",
              "<style scoped>\n",
              "    .dataframe tbody tr th:only-of-type {\n",
              "        vertical-align: middle;\n",
              "    }\n",
              "\n",
              "    .dataframe tbody tr th {\n",
              "        vertical-align: top;\n",
              "    }\n",
              "\n",
              "    .dataframe thead th {\n",
              "        text-align: right;\n",
              "    }\n",
              "</style>\n",
              "<table border=\"1\" class=\"dataframe\">\n",
              "  <thead>\n",
              "    <tr style=\"text-align: right;\">\n",
              "      <th></th>\n",
              "      <th>count</th>\n",
              "      <th>mean</th>\n",
              "      <th>std</th>\n",
              "      <th>min</th>\n",
              "      <th>25%</th>\n",
              "      <th>50%</th>\n",
              "      <th>75%</th>\n",
              "      <th>max</th>\n",
              "    </tr>\n",
              "    <tr>\n",
              "      <th>RevenueCluster</th>\n",
              "      <th></th>\n",
              "      <th></th>\n",
              "      <th></th>\n",
              "      <th></th>\n",
              "      <th></th>\n",
              "      <th></th>\n",
              "      <th></th>\n",
              "      <th></th>\n",
              "    </tr>\n",
              "  </thead>\n",
              "  <tbody>\n",
              "    <tr>\n",
              "      <th>0</th>\n",
              "      <td>3687.0</td>\n",
              "      <td>907.254414</td>\n",
              "      <td>921.910820</td>\n",
              "      <td>-4287.63</td>\n",
              "      <td>263.115</td>\n",
              "      <td>572.56</td>\n",
              "      <td>1258.220</td>\n",
              "      <td>4314.72</td>\n",
              "    </tr>\n",
              "    <tr>\n",
              "      <th>1</th>\n",
              "      <td>234.0</td>\n",
              "      <td>7760.699530</td>\n",
              "      <td>3637.173671</td>\n",
              "      <td>4330.67</td>\n",
              "      <td>5161.485</td>\n",
              "      <td>6549.38</td>\n",
              "      <td>9142.305</td>\n",
              "      <td>21535.90</td>\n",
              "    </tr>\n",
              "    <tr>\n",
              "      <th>2</th>\n",
              "      <td>27.0</td>\n",
              "      <td>43070.445185</td>\n",
              "      <td>15939.249588</td>\n",
              "      <td>25748.35</td>\n",
              "      <td>28865.490</td>\n",
              "      <td>36351.42</td>\n",
              "      <td>53489.790</td>\n",
              "      <td>88125.38</td>\n",
              "    </tr>\n",
              "    <tr>\n",
              "      <th>3</th>\n",
              "      <td>2.0</td>\n",
              "      <td>221960.330000</td>\n",
              "      <td>48759.481478</td>\n",
              "      <td>187482.17</td>\n",
              "      <td>204721.250</td>\n",
              "      <td>221960.33</td>\n",
              "      <td>239199.410</td>\n",
              "      <td>256438.49</td>\n",
              "    </tr>\n",
              "  </tbody>\n",
              "</table>\n",
              "</div>"
            ],
            "text/plain": [
              "                 count           mean  ...         75%        max\n",
              "RevenueCluster                         ...                       \n",
              "0               3687.0     907.254414  ...    1258.220    4314.72\n",
              "1                234.0    7760.699530  ...    9142.305   21535.90\n",
              "2                 27.0   43070.445185  ...   53489.790   88125.38\n",
              "3                  2.0  221960.330000  ...  239199.410  256438.49\n",
              "\n",
              "[4 rows x 8 columns]"
            ]
          },
          "metadata": {},
          "execution_count": 63
        }
      ]
    },
    {
      "cell_type": "code",
      "metadata": {
        "colab": {
          "base_uri": "https://localhost:8080/",
          "height": 414
        },
        "id": "IFQklOtdvk9c",
        "outputId": "b7d97f1b-7ed5-4284-eb40-a02399362731"
      },
      "source": [
        "df_users"
      ],
      "execution_count": 64,
      "outputs": [
        {
          "output_type": "execute_result",
          "data": {
            "text/html": [
              "<div>\n",
              "<style scoped>\n",
              "    .dataframe tbody tr th:only-of-type {\n",
              "        vertical-align: middle;\n",
              "    }\n",
              "\n",
              "    .dataframe tbody tr th {\n",
              "        vertical-align: top;\n",
              "    }\n",
              "\n",
              "    .dataframe thead th {\n",
              "        text-align: right;\n",
              "    }\n",
              "</style>\n",
              "<table border=\"1\" class=\"dataframe\">\n",
              "  <thead>\n",
              "    <tr style=\"text-align: right;\">\n",
              "      <th></th>\n",
              "      <th>CustomerID</th>\n",
              "      <th>Recency</th>\n",
              "      <th>RecencyCluster</th>\n",
              "      <th>Frequency</th>\n",
              "      <th>FrequencyCluster</th>\n",
              "      <th>Revenue</th>\n",
              "      <th>RevenueCluster</th>\n",
              "    </tr>\n",
              "  </thead>\n",
              "  <tbody>\n",
              "    <tr>\n",
              "      <th>0</th>\n",
              "      <td>17850.0</td>\n",
              "      <td>301</td>\n",
              "      <td>0</td>\n",
              "      <td>312</td>\n",
              "      <td>1</td>\n",
              "      <td>5288.63</td>\n",
              "      <td>1</td>\n",
              "    </tr>\n",
              "    <tr>\n",
              "      <th>1</th>\n",
              "      <td>14688.0</td>\n",
              "      <td>7</td>\n",
              "      <td>3</td>\n",
              "      <td>359</td>\n",
              "      <td>1</td>\n",
              "      <td>5107.38</td>\n",
              "      <td>1</td>\n",
              "    </tr>\n",
              "    <tr>\n",
              "      <th>2</th>\n",
              "      <td>13767.0</td>\n",
              "      <td>1</td>\n",
              "      <td>3</td>\n",
              "      <td>399</td>\n",
              "      <td>1</td>\n",
              "      <td>16945.71</td>\n",
              "      <td>1</td>\n",
              "    </tr>\n",
              "    <tr>\n",
              "      <th>3</th>\n",
              "      <td>15513.0</td>\n",
              "      <td>30</td>\n",
              "      <td>3</td>\n",
              "      <td>314</td>\n",
              "      <td>1</td>\n",
              "      <td>14520.08</td>\n",
              "      <td>1</td>\n",
              "    </tr>\n",
              "    <tr>\n",
              "      <th>4</th>\n",
              "      <td>14849.0</td>\n",
              "      <td>21</td>\n",
              "      <td>3</td>\n",
              "      <td>392</td>\n",
              "      <td>1</td>\n",
              "      <td>7904.28</td>\n",
              "      <td>1</td>\n",
              "    </tr>\n",
              "    <tr>\n",
              "      <th>...</th>\n",
              "      <td>...</td>\n",
              "      <td>...</td>\n",
              "      <td>...</td>\n",
              "      <td>...</td>\n",
              "      <td>...</td>\n",
              "      <td>...</td>\n",
              "      <td>...</td>\n",
              "    </tr>\n",
              "    <tr>\n",
              "      <th>3945</th>\n",
              "      <td>12748.0</td>\n",
              "      <td>0</td>\n",
              "      <td>3</td>\n",
              "      <td>4642</td>\n",
              "      <td>3</td>\n",
              "      <td>29072.10</td>\n",
              "      <td>2</td>\n",
              "    </tr>\n",
              "    <tr>\n",
              "      <th>3946</th>\n",
              "      <td>17841.0</td>\n",
              "      <td>1</td>\n",
              "      <td>3</td>\n",
              "      <td>7983</td>\n",
              "      <td>3</td>\n",
              "      <td>40340.78</td>\n",
              "      <td>2</td>\n",
              "    </tr>\n",
              "    <tr>\n",
              "      <th>3947</th>\n",
              "      <td>14096.0</td>\n",
              "      <td>3</td>\n",
              "      <td>3</td>\n",
              "      <td>5128</td>\n",
              "      <td>3</td>\n",
              "      <td>57120.91</td>\n",
              "      <td>2</td>\n",
              "    </tr>\n",
              "    <tr>\n",
              "      <th>3948</th>\n",
              "      <td>17450.0</td>\n",
              "      <td>7</td>\n",
              "      <td>3</td>\n",
              "      <td>351</td>\n",
              "      <td>1</td>\n",
              "      <td>187482.17</td>\n",
              "      <td>3</td>\n",
              "    </tr>\n",
              "    <tr>\n",
              "      <th>3949</th>\n",
              "      <td>18102.0</td>\n",
              "      <td>0</td>\n",
              "      <td>3</td>\n",
              "      <td>433</td>\n",
              "      <td>1</td>\n",
              "      <td>256438.49</td>\n",
              "      <td>3</td>\n",
              "    </tr>\n",
              "  </tbody>\n",
              "</table>\n",
              "<p>3950 rows × 7 columns</p>\n",
              "</div>"
            ],
            "text/plain": [
              "      CustomerID  Recency  ...    Revenue  RevenueCluster\n",
              "0        17850.0      301  ...    5288.63               1\n",
              "1        14688.0        7  ...    5107.38               1\n",
              "2        13767.0        1  ...   16945.71               1\n",
              "3        15513.0       30  ...   14520.08               1\n",
              "4        14849.0       21  ...    7904.28               1\n",
              "...          ...      ...  ...        ...             ...\n",
              "3945     12748.0        0  ...   29072.10               2\n",
              "3946     17841.0        1  ...   40340.78               2\n",
              "3947     14096.0        3  ...   57120.91               2\n",
              "3948     17450.0        7  ...  187482.17               3\n",
              "3949     18102.0        0  ...  256438.49               3\n",
              "\n",
              "[3950 rows x 7 columns]"
            ]
          },
          "metadata": {},
          "execution_count": 64
        }
      ]
    },
    {
      "cell_type": "code",
      "metadata": {
        "colab": {
          "base_uri": "https://localhost:8080/",
          "height": 411
        },
        "id": "TvWgsSpIvk6v",
        "outputId": "5f05aa48-916d-43ae-cdfe-1e8a8f31a09d"
      },
      "source": [
        "df_users['OverallScore'] = df_users['RecencyCluster'] + df_users['FrequencyCluster'] + df_users['RevenueCluster']\n",
        "df_users.groupby('OverallScore')['Recency','Frequency','Revenue'].mean()"
      ],
      "execution_count": 65,
      "outputs": [
        {
          "output_type": "stream",
          "name": "stderr",
          "text": [
            "/usr/local/lib/python3.7/dist-packages/ipykernel_launcher.py:2: FutureWarning: Indexing with multiple keys (implicitly converted to a tuple of keys) will be deprecated, use a list instead.\n",
            "  \n"
          ]
        },
        {
          "output_type": "execute_result",
          "data": {
            "text/html": [
              "<div>\n",
              "<style scoped>\n",
              "    .dataframe tbody tr th:only-of-type {\n",
              "        vertical-align: middle;\n",
              "    }\n",
              "\n",
              "    .dataframe tbody tr th {\n",
              "        vertical-align: top;\n",
              "    }\n",
              "\n",
              "    .dataframe thead th {\n",
              "        text-align: right;\n",
              "    }\n",
              "</style>\n",
              "<table border=\"1\" class=\"dataframe\">\n",
              "  <thead>\n",
              "    <tr style=\"text-align: right;\">\n",
              "      <th></th>\n",
              "      <th>Recency</th>\n",
              "      <th>Frequency</th>\n",
              "      <th>Revenue</th>\n",
              "    </tr>\n",
              "    <tr>\n",
              "      <th>OverallScore</th>\n",
              "      <th></th>\n",
              "      <th></th>\n",
              "      <th></th>\n",
              "    </tr>\n",
              "  </thead>\n",
              "  <tbody>\n",
              "    <tr>\n",
              "      <th>0</th>\n",
              "      <td>304.584388</td>\n",
              "      <td>21.995781</td>\n",
              "      <td>303.339705</td>\n",
              "    </tr>\n",
              "    <tr>\n",
              "      <th>1</th>\n",
              "      <td>185.362989</td>\n",
              "      <td>32.596085</td>\n",
              "      <td>498.087546</td>\n",
              "    </tr>\n",
              "    <tr>\n",
              "      <th>2</th>\n",
              "      <td>78.991304</td>\n",
              "      <td>46.963043</td>\n",
              "      <td>868.082991</td>\n",
              "    </tr>\n",
              "    <tr>\n",
              "      <th>3</th>\n",
              "      <td>20.689610</td>\n",
              "      <td>68.419590</td>\n",
              "      <td>1091.416414</td>\n",
              "    </tr>\n",
              "    <tr>\n",
              "      <th>4</th>\n",
              "      <td>14.892617</td>\n",
              "      <td>271.755034</td>\n",
              "      <td>3607.097114</td>\n",
              "    </tr>\n",
              "    <tr>\n",
              "      <th>5</th>\n",
              "      <td>9.662162</td>\n",
              "      <td>373.290541</td>\n",
              "      <td>9136.946014</td>\n",
              "    </tr>\n",
              "    <tr>\n",
              "      <th>6</th>\n",
              "      <td>7.740741</td>\n",
              "      <td>876.037037</td>\n",
              "      <td>22777.914815</td>\n",
              "    </tr>\n",
              "    <tr>\n",
              "      <th>7</th>\n",
              "      <td>1.857143</td>\n",
              "      <td>1272.714286</td>\n",
              "      <td>103954.025714</td>\n",
              "    </tr>\n",
              "    <tr>\n",
              "      <th>8</th>\n",
              "      <td>1.333333</td>\n",
              "      <td>5917.666667</td>\n",
              "      <td>42177.930000</td>\n",
              "    </tr>\n",
              "  </tbody>\n",
              "</table>\n",
              "</div>"
            ],
            "text/plain": [
              "                 Recency    Frequency        Revenue\n",
              "OverallScore                                        \n",
              "0             304.584388    21.995781     303.339705\n",
              "1             185.362989    32.596085     498.087546\n",
              "2              78.991304    46.963043     868.082991\n",
              "3              20.689610    68.419590    1091.416414\n",
              "4              14.892617   271.755034    3607.097114\n",
              "5               9.662162   373.290541    9136.946014\n",
              "6               7.740741   876.037037   22777.914815\n",
              "7               1.857143  1272.714286  103954.025714\n",
              "8               1.333333  5917.666667   42177.930000"
            ]
          },
          "metadata": {},
          "execution_count": 65
        }
      ]
    },
    {
      "cell_type": "markdown",
      "metadata": {
        "id": "b6A9CEDO3uyH"
      },
      "source": [
        "Приведенный выше балл ясно показывает нам, что клиенты с 8 баллами являются нашими лучшими клиентами, в то время как 0-худшие."
      ]
    },
    {
      "cell_type": "markdown",
      "metadata": {
        "id": "ZDgYHtPx3zyP"
      },
      "source": [
        "### Чтобы все было проще, лучше назовем эти оценки:\n",
        "\n",
        "* **Клиенты с низкой ценностью**: от 0 до 2.\n",
        "* **Клиенты со средней ценность**: от 3 до 4.\n",
        "* **Клиенты с высокой ценностью**: 5+."
      ]
    },
    {
      "cell_type": "code",
      "metadata": {
        "id": "2iKBvW3evk1V"
      },
      "source": [
        "df_users['Segment'] = 'Low-Value'\n",
        "df_users.loc[df_users['OverallScore']>2,'Segment'] = 'Mid-Value' \n",
        "df_users.loc[df_users['OverallScore']>4,'Segment'] = 'High-Value' "
      ],
      "execution_count": 66,
      "outputs": []
    },
    {
      "cell_type": "code",
      "metadata": {
        "id": "0Y4Ui12VCSjk"
      },
      "source": [
        "df_users_graph = df_users.query(\"Frequency < 2000\")"
      ],
      "execution_count": 67,
      "outputs": []
    },
    {
      "cell_type": "code",
      "metadata": {
        "colab": {
          "base_uri": "https://localhost:8080/",
          "height": 894
        },
        "id": "kxJ2prcY-O3S",
        "outputId": "d17fa485-2974-4382-bd6c-c320e31a3815"
      },
      "source": [
        "plt.subplots(figsize=(15, 15))\n",
        "sns.scatterplot(data=df_users_graph, x=\"Frequency\", y=\"Revenue\", hue=\"Segment\", style=\"Segment\")"
      ],
      "execution_count": 68,
      "outputs": [
        {
          "output_type": "execute_result",
          "data": {
            "text/plain": [
              "<matplotlib.axes._subplots.AxesSubplot at 0x7fdc84e73310>"
            ]
          },
          "metadata": {},
          "execution_count": 68
        },
        {
          "output_type": "display_data",
          "data": {
            "image/png": "[encoded data removed]",
            "text/plain": [
              "<Figure size 1080x1080 with 1 Axes>"
            ]
          },
          "metadata": {
            "needs_background": "light"
          }
        }
      ]
    },
    {
      "cell_type": "code",
      "metadata": {
        "colab": {
          "base_uri": "https://localhost:8080/",
          "height": 894
        },
        "id": "MTV0WQ_tvkyp",
        "outputId": "89071e2e-5acc-4fe7-a29f-1feb5a4faf60"
      },
      "source": [
        "plt.subplots(figsize=(15, 15))\n",
        "sns.scatterplot(data=df_users, x=\"Recency\", y=\"Revenue\", hue=\"Segment\", style=\"Segment\")"
      ],
      "execution_count": 69,
      "outputs": [
        {
          "output_type": "execute_result",
          "data": {
            "text/plain": [
              "<matplotlib.axes._subplots.AxesSubplot at 0x7fdc84ab09d0>"
            ]
          },
          "metadata": {},
          "execution_count": 69
        },
        {
          "output_type": "display_data",
          "data": {
            "image/png": "[encoded data removed]",
            "text/plain": [
              "<Figure size 1080x1080 with 1 Axes>"
            ]
          },
          "metadata": {
            "needs_background": "light"
          }
        }
      ]
    },
    {
      "cell_type": "code",
      "metadata": {
        "colab": {
          "base_uri": "https://localhost:8080/",
          "height": 894
        },
        "id": "OSpyGdD5sV1E",
        "outputId": "2c7e3bc3-a238-4292-f0cf-f50080724ecf"
      },
      "source": [
        "plt.subplots(figsize=(15, 15))\n",
        "sns.scatterplot(data=df_users, x=\"Recency\", y=\"Frequency\", hue=\"Segment\", style=\"Segment\")"
      ],
      "execution_count": 70,
      "outputs": [
        {
          "output_type": "execute_result",
          "data": {
            "text/plain": [
              "<matplotlib.axes._subplots.AxesSubplot at 0x7fdc84a484d0>"
            ]
          },
          "metadata": {},
          "execution_count": 70
        },
        {
          "output_type": "display_data",
          "data": {
            "image/png": "[encoded data removed]",
            "text/plain": [
              "<Figure size 1080x1080 with 1 Axes>"
            ]
          },
          "metadata": {
            "needs_background": "light"
          }
        }
      ]
    },
    {
      "cell_type": "markdown",
      "metadata": {
        "id": "LY4Gpr_KEms8"
      },
      "source": [
        "### Мы можем начать предпринимать действия с помощью этой сегментации. Основные стратегии:\n",
        "\n",
        "* **Клиенты с низкой ценностью**: Увеличение частоты покупок\n",
        "* **Клиенты со средней ценность**: Улучшение Удержания + Увеличение Частоты покупок\n",
        "* **Клиенты с высокой ценностью**: Улучшение Удержания"
      ]
    }
  ]
}